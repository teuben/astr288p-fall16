{
 "cells": [
  {
   "cell_type": "markdown",
   "metadata": {},
   "source": [
    "# Some final thoughts\n",
    "\n",
    "In the lectures you should have learned:\n",
    "\n",
    "* Unix (Linux or Mac) terminals and how to work with directories and files\n",
    "  * basic commands:   cd, ls, rm , mv, cp, \n",
    "  * helpful commands: cat, man, find, grep\n",
    "  * tools, such as git\n",
    "  \n",
    "* Python for scientific programming\n",
    "  * Installing your own python (miniconda3)\n",
    "  * 3 ways to run python:  python scripts, ipython terminal, jupyter notebook\n",
    "  * basic language constructs (variables, loops, if/then/else, lists, dictionaries)\n",
    "  * plotting, numpy, scipy as the most important modules\n",
    "  * ODE and fitting\n",
    "  \n",
    "* Using open source software, using PDE athena as example\n",
    "  * athena installation (athena is written in C), autoconf\n",
    "  * running athena\n",
    "  * analyzing 1D shocktube results in python\n",
    "  \n",
    "* Things we didn't cover in Python:\n",
    "  * classes in the object oriented sense\n",
    "  * some interesting modules: pandas (dataframes are like numpy arrays)\n",
    "  * talking to other languages (e.g. via cython or ctypes)\n",
    "  \n",
    "\n",
    "\n"
   ]
  },
  {
   "cell_type": "markdown",
   "metadata": {},
   "source": [
    "###  Basic import's\n",
    "\n",
    "First the basic imports we'll need for this notebook"
   ]
  },
  {
   "cell_type": "code",
   "execution_count": null,
   "metadata": {
    "collapsed": true
   },
   "outputs": [],
   "source": [
    "%matplotlib inline\n",
    "import numpy as np\n",
    "import numpy.ma as ma\n",
    "import matplotlib.pyplot as plt\n",
    "\n",
    "from astropy.io import fits\n",
    "from scipy.optimize import curve_fit"
   ]
  },
  {
   "cell_type": "markdown",
   "metadata": {},
   "source": [
    "### Basic Python\n",
    "\n",
    "Create three variables a,b,c all representing the number 1 in the three basic python types, and print out their type using the type(a) function call:\n",
    "```\n",
    "    a = ...\n",
    "    b = ...\n",
    "    c = ...\n",
    "    print...\n",
    "```\n",
    "note the word \"class\" you should see, which we never really covered. But just remember: everything in python is an object (ie. class)"
   ]
  },
  {
   "cell_type": "code",
   "execution_count": null,
   "metadata": {
    "collapsed": false
   },
   "outputs": [],
   "source": [
    "#Q1"
   ]
  },
  {
   "cell_type": "markdown",
   "metadata": {},
   "source": [
    "### Reading data from an ascii table\n",
    "\n",
    "In the cell below a small table with 5 rows and 3 colums are created on the fly using the unix \"echo\" command. The first line in the file is a comment line."
   ]
  },
  {
   "cell_type": "code",
   "execution_count": null,
   "metadata": {
    "collapsed": false
   },
   "outputs": [],
   "source": [
    "!echo \"# x  y  yerr\"   > 123.tab\n",
    "!echo 0.0  0.0  0.10  >> 123.tab\n",
    "!echo 1.0  1.0  0.20  >> 123.tab\n",
    "!echo 2.0  0.5  0.15  >> 123.tab\n",
    "!echo 3.0  1.5  0.20  >> 123.tab\n",
    "!echo 4.0  3.5  0.15  >> 123.tab\n",
    "!pwd\n",
    "!cat 123.tab"
   ]
  },
  {
   "cell_type": "markdown",
   "metadata": {},
   "source": [
    "Use the \"loadtxt\" function from the numpy module to read this data, and create three arrays representing these three columns.  Print out the shape of the data array and notice where the rows and colums are."
   ]
  },
  {
   "cell_type": "code",
   "execution_count": null,
   "metadata": {
    "collapsed": false
   },
   "outputs": [],
   "source": [
    "#Q2"
   ]
  },
  {
   "cell_type": "markdown",
   "metadata": {},
   "source": [
    "One the many ipython magic %-commands we did not cover is the \"%whos\" command, which is like a *who is who in memory*. Try this out in the next cell. You can find more about the magic commands in e.g. https://ipython.org/ipython-doc/3/interactive/magics.html"
   ]
  },
  {
   "cell_type": "code",
   "execution_count": null,
   "metadata": {
    "collapsed": false
   },
   "outputs": [],
   "source": [
    "%whos"
   ]
  },
  {
   "cell_type": "markdown",
   "metadata": {},
   "source": [
    "### Plotting with errorbars\n",
    "\n",
    "We have used \"plot\" and \"scatter\", but now use \"errorbar\" to plot. Use col1 and col2 for the X and Y, and col3 for the errors in Y.\n",
    "Label your axes and set limits so you can see all points clearly."
   ]
  },
  {
   "cell_type": "code",
   "execution_count": null,
   "metadata": {
    "collapsed": false
   },
   "outputs": [],
   "source": [
    "#Q3"
   ]
  },
  {
   "cell_type": "markdown",
   "metadata": {},
   "source": [
    "### Fitting a straight line\n",
    "\n",
    "Use the *curve_fit* function from *scipy.optimize* again to fit a straight line\n",
    "$$\n",
    "      y = a . x + b\n",
    "$$\n",
    "to these data, and overplot this line on top of the errorbar data you plotted just before. Print out the values for the slope $a$ and intercept $b$."
   ]
  },
  {
   "cell_type": "code",
   "execution_count": null,
   "metadata": {
    "collapsed": false
   },
   "outputs": [],
   "source": [
    "#Q4"
   ]
  },
  {
   "cell_type": "markdown",
   "metadata": {},
   "source": [
    "### FITS data cubes\n",
    "\n",
    "What is the RMS noise in channel 1, 40, 50 and 87 of the **ngc6503.cube.fits** file. Try and loop over a list of those channels, and write this as compact as you can. Hint:  I could do it in 3 lines of python code.\n",
    "\n",
    "To check your results, the rms for channel 50 should be about  0.00085"
   ]
  },
  {
   "cell_type": "code",
   "execution_count": null,
   "metadata": {
    "collapsed": false
   },
   "outputs": [],
   "source": [
    "#Q5"
   ]
  },
  {
   "cell_type": "markdown",
   "metadata": {
    "collapsed": true
   },
   "source": [
    "### Orbits in non-axisymmetric potentials\n",
    "\n",
    "Make a copy of the *orbits-01* notebook to *orbits-01b* and change the potential to work in an ellipsoidal coordinate system emulating something like a (non-rotating) elliptical galaxy. \n",
    "\n",
    "1) You would replace\n",
    "$$\n",
    "    r^2 = x^2 + y^2\n",
    "$$\n",
    "with\n",
    "$$\n",
    "    r^2 = x^2 + {y^2 \\over b^2}\n",
    "$$\n",
    "where $b$ is the effective axis ratio in the potential of the mass distribution. Then note that\n",
    "$$\n",
    "    {{\\partial \\Phi} \\over { \\partial x}} = {{\\partial \\Phi} \\over { \\partial r}}. {x \\over r},\n",
    "    {{\\partial \\Phi} \\over { \\partial y}} = {{\\partial \\Phi} \\over { \\partial r}}. {y \\over r b^2},\n",
    "$$\n",
    "\n",
    "2) Instead of launching the orbit from the X axis, now launch it from the Y axis. First confirm with b=1.0 that you get the same orbit as you got in the *orbits-01* notebook, but use b=0.8 for the experiments. Take the same launch velocity of 0.3, and launch at different positions along the Y axis, stepping down from 1.0 to 0.9, 0.8 etc.  Notice a transition? At what launch position does the transition occur?\n",
    "\n",
    "3) Integrate the orbit at least 10 times longer, and use plt.plot() instead of plt.scatter(), since there would be too many points on the screen.\n",
    "\n",
    "4) You can either use our handcrafted stepper, or feel free to use the *scipy.integrate.odeint* function, since that conserves the energy better. But be sure to check that energy is conserved. What about angular momentum?"
   ]
  },
  {
   "cell_type": "code",
   "execution_count": null,
   "metadata": {
    "collapsed": true
   },
   "outputs": [],
   "source": [
    "#Q6 (in a copy notebook)"
   ]
  }
 ],
 "metadata": {
  "anaconda-cloud": {},
  "kernelspec": {
   "display_name": "Python [default]",
   "language": "python",
   "name": "python3"
  },
  "language_info": {
   "codemirror_mode": {
    "name": "ipython",
    "version": 3
   },
   "file_extension": ".py",
   "mimetype": "text/x-python",
   "name": "python",
   "nbconvert_exporter": "python",
   "pygments_lexer": "ipython3",
   "version": "3.5.2"
  }
 },
 "nbformat": 4,
 "nbformat_minor": 1
}
