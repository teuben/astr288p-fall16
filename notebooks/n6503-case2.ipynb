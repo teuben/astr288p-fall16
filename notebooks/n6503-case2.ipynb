{
 "cells": [
  {
   "cell_type": "markdown",
   "metadata": {},
   "source": [
    "# Spectral Line Data Cubes in Astronomy - Part 2 (unfinished)\n",
    "\n",
    "We are doing a complete re-analysis of the same NGC 6503 case, but now with more tools that the community has developed. For this you will need to modify your python environment.\n",
    "\n",
    "See also http://adsabs.harvard.edu/abs/2015ASPC..499..363G for the paper describing this project.\n"
   ]
  },
  {
   "cell_type": "code",
   "execution_count": null,
   "metadata": {
    "collapsed": false
   },
   "outputs": [],
   "source": [
    "%matplotlib inline"
   ]
  },
  {
   "cell_type": "code",
   "execution_count": null,
   "metadata": {
    "collapsed": false
   },
   "outputs": [],
   "source": [
    "# python 2-3 compatibility\n",
    "from __future__ import print_function"
   ]
  },
  {
   "cell_type": "markdown",
   "metadata": {},
   "source": [
    "## Reading the data"
   ]
  },
  {
   "cell_type": "markdown",
   "metadata": {},
   "source": [
    "Two new community modules are introduced here: *spectral_cube* and *radio_beam*, both from the https://github.com/radio-astro-tools project.\n",
    "\n",
    "### Manual\n",
    "\n",
    "    git clone https://github.com/radio-astro-tools/spectral_cube\n",
    "    cd spectral_cube\n",
    "    python setup.py install\n",
    "    \n",
    "    git clone https://github.com/radio-astro-tools/radio_beam\n",
    "    cd radio_beam\n",
    "    python setup.py install\n",
    "\n",
    "### Automated\n",
    "\n",
    "1) For **spectral-cube** you can simple use the **pip** command from the dos/unix shell to install it:\n",
    "\n",
    "    pip install spectral_cube\n",
    "    \n",
    "   Note the underscore and dash convention.\n",
    "   \n",
    "2) For **radio_beam** the developers have not submitted this to the python community (https://pypi.python.org/pypi), and thus you will need to install this manually.   Go to the developers page on github:  https://github.com/radio-astro-tools/radio_beam and near the top right corner you will see a button **Download ZIP**. Extract this somewhere (often in your Downloads directory) and use your python to install this. For example, again from your doc/unix shell you would type:\n",
    "\n",
    "     cd ~/Downloads/radio_beam-master\n",
    "     python setup.py install\n",
    "     "
   ]
  },
  {
   "cell_type": "code",
   "execution_count": null,
   "metadata": {
    "collapsed": false
   },
   "outputs": [],
   "source": [
    "import numpy as np\n",
    "import astropy.units as u\n",
    "from spectral_cube import SpectralCube\n",
    "import radio_beam"
   ]
  },
  {
   "cell_type": "code",
   "execution_count": null,
   "metadata": {
    "collapsed": false
   },
   "outputs": [],
   "source": [
    "cube = SpectralCube.read('../data/ngc6503.cube.fits')\n",
    "print(cube)"
   ]
  },
  {
   "cell_type": "markdown",
   "metadata": {},
   "source": [
    "A FITS file consists of a series of Header-Data-Units (HDU). Usually there is only one, representing the image. But this file has two. For now, we're going to ignore the second, which is a special table and in this example happens to be empty anyways.  Each HDU has a header, and data.  The data in this case is a numpy array, and represents the image (cube):"
   ]
  },
  {
   "cell_type": "code",
   "execution_count": null,
   "metadata": {
    "collapsed": false
   },
   "outputs": [],
   "source": [
    "h = cube.header\n",
    "d = cube.unmasked_data[:,:,:]\n",
    "print(d.shape, d.min(), d.max(), d.mean(), np.median(d), d.std())\n",
    "print(\"Signal/Noise  (S/N):\",d.max()/d.std())\n"
   ]
  },
  {
   "cell_type": "markdown",
   "metadata": {},
   "source": [
    "From the shape (89,251,371) we can see this image is already 3 dimensional, the dummy 4th dimension we saw in the previous example is not present here. There are 371 pixels along X, 251 along Y, and 89 slices or spectral channels. "
   ]
  },
  {
   "cell_type": "markdown",
   "metadata": {},
   "source": [
    "In case you were wondering about that missing 4th redundant axis. This is possibly a simplification of the data model left out of spectal_cube at the moment.\n",
    "\n",
    "The material below this should be the same as the previous \"case1\" notebook (even though the data array is not exactly just a numpy array, but a Quantity!)"
   ]
  },
  {
   "cell_type": "markdown",
   "metadata": {},
   "source": [
    "## Plotting some basics"
   ]
  },
  {
   "cell_type": "code",
   "execution_count": null,
   "metadata": {
    "collapsed": false
   },
   "outputs": [],
   "source": [
    "import matplotlib.pyplot as plt"
   ]
  },
  {
   "cell_type": "code",
   "execution_count": null,
   "metadata": {
    "collapsed": false
   },
   "outputs": [],
   "source": [
    "z = 35\n",
    "im = d[z,:,:]                              #   im = d[z]     also works\n",
    "plt.imshow(im,origin=['Lower'])\n",
    "plt.colorbar()"
   ]
  },
  {
   "cell_type": "markdown",
   "metadata": {},
   "source": [
    "There are 89 channels (slices) in this cube, numbered 0 through 88 in the usual python sense. Pick a few other slices by changing the value in \n",
    "**z=** and notice that the first few and last few appear to be just noise and that the V-shaped signal changes shape through the channels. Perhaps you should not be surprised that these are referred to as butterfly diagrams."
   ]
  },
  {
   "cell_type": "code",
   "execution_count": null,
   "metadata": {
    "collapsed": false
   },
   "outputs": [],
   "source": [
    "# look at a histogram of all the data (histogram needs a 1D array)\n",
    "d1 = d.ravel()                 # ravel() doesn't make a new copy of the array, saving memory\n",
    "print(d1.shape)\n",
    "(n,b,p) = plt.hist(d1, bins=100)"
   ]
  },
  {
   "cell_type": "markdown",
   "metadata": {},
   "source": [
    "Notice that the histogram is on the left in the plot, and we already saw the maximum data point is 0.0169835.\n",
    "\n",
    "So let us plot the vertical axis logarithmically, so we can better see what is going on."
   ]
  },
  {
   "cell_type": "code",
   "execution_count": null,
   "metadata": {
    "collapsed": false
   },
   "outputs": [],
   "source": [
    "(n,b,p) = plt.hist(d1,bins=100,log=True)"
   ]
  },
  {
   "cell_type": "markdown",
   "metadata": {},
   "source": []
  },
  {
   "cell_type": "code",
   "execution_count": null,
   "metadata": {
    "collapsed": false
   },
   "outputs": [],
   "source": [
    "# pick a slice and make a histogram and print the mean and standard deviation of the signal in that slice\n",
    "z=0\n",
    "imz = d[z,:,:].flatten()\n",
    "(n,b,p) = plt.hist(imz,bins=100)\n",
    "print(imz.mean(), imz.std())\n"
   ]
  },
  {
   "cell_type": "markdown",
   "metadata": {},
   "source": [
    "**Exercise** : observe by picking some values of **z** that the noise seems to vary a little bit from one end of the band to the other.  Store the noise in channel 0 and 88 in variables sigma0 and sigma88:\n"
   ]
  },
  {
   "cell_type": "code",
   "execution_count": null,
   "metadata": {
    "collapsed": false
   },
   "outputs": [],
   "source": [
    "xpeak = 175\n",
    "ypeak = 125\n",
    "channel = np.arange(d.shape[0])\n",
    "spectrum = d[:,ypeak,xpeak]\n",
    "zero = spectrum * 0.0\n",
    "plt.plot(channel,spectrum)\n",
    "plt.plot(channel,zero)"
   ]
  },
  {
   "cell_type": "code",
   "execution_count": null,
   "metadata": {
    "collapsed": false
   },
   "outputs": [],
   "source": [
    "sigma0 = 0.00056\n",
    "sigma88 = 0.00059"
   ]
  },
  {
   "cell_type": "code",
   "execution_count": null,
   "metadata": {
    "collapsed": false
   },
   "outputs": [],
   "source": [
    "import scipy.signal\n",
    "import scipy.ndimage.filters as filters"
   ]
  },
  {
   "cell_type": "markdown",
   "metadata": {},
   "source": [
    "## Smoothing a cube to enhance the signal to noise"
   ]
  },
  {
   "cell_type": "code",
   "execution_count": null,
   "metadata": {
    "collapsed": false
   },
   "outputs": [],
   "source": [
    "z = 0\n",
    "sigma = 2.0\n",
    "ds1 = filters.gaussian_filter(d[z],sigma)                    # ds1 is a single smoothed slice\n",
    "print ds1.shape, ds1.mean(), ds1.std()\n",
    "plt.imshow(ds1,origin=['Lower'])\n",
    "plt.colorbar()"
   ]
  },
  {
   "cell_type": "markdown",
   "metadata": {},
   "source": [
    "Notice that the noise is indeed lower than your earlier value of sigma0.   We only smoothed one single slice, but we actually need to smooth the whole cube.  Each slice  with sigma, but we can optionally also smooth in the spectral dimension a little bit. "
   ]
  },
  {
   "cell_type": "code",
   "execution_count": null,
   "metadata": {
    "collapsed": false
   },
   "outputs": [],
   "source": [
    "ds = filters.gaussian_filter(d,[1.0,sigma,sigma])              # ds is a smoothed cube\n",
    "plt.imshow(ds[z],origin=['Lower'])\n",
    "plt.colorbar()\n",
    "print ds.max(),ds.max()/ds1.std()"
   ]
  },
  {
   "cell_type": "markdown",
   "metadata": {},
   "source": [
    "Notice that, although the peak value was lowered a bit due to the smoothing, the signal to noise has increased from the original cube. So, the signal should stand out a lot better.\n",
    "\n",
    "**Exercise** : Observe a subtle difference in the last two plots. Can you see what happened here?"
   ]
  },
  {
   "cell_type": "markdown",
   "metadata": {},
   "source": [
    "## Masking\n"
   ]
  },
  {
   "cell_type": "code",
   "execution_count": null,
   "metadata": {
    "collapsed": false
   },
   "outputs": [],
   "source": [
    "import numpy.ma as ma"
   ]
  },
  {
   "cell_type": "code",
   "execution_count": null,
   "metadata": {
    "collapsed": false
   },
   "outputs": [],
   "source": [
    "#  sigma0 is the noise in the original cube\n",
    "nsigma = 0.0\n",
    "dm = ma.masked_inside(d,-nsigma*sigma0,nsigma*sigma0)\n",
    "print dm.count()"
   ]
  },
  {
   "cell_type": "code",
   "execution_count": null,
   "metadata": {
    "collapsed": false
   },
   "outputs": [],
   "source": [
    "mom0 = dm.sum(axis=0)\n",
    "plt.imshow(mom0,origin=['Lower'])\n",
    "plt.colorbar()\n",
    "#\n",
    "(ypeak,xpeak) = np.unravel_index(mom0.argmax(),mom0.shape)\n",
    "print \"PEAK at location:\",xpeak,ypeak,mom0.argmax()"
   ]
  },
  {
   "cell_type": "code",
   "execution_count": null,
   "metadata": {
    "collapsed": false
   },
   "outputs": [],
   "source": [
    "spectrum2 = ds[:,ypeak,xpeak]\n",
    "plt.plot(channel,spectrum2)\n",
    "plt.plot(channel,zero)"
   ]
  },
  {
   "cell_type": "code",
   "execution_count": null,
   "metadata": {
    "collapsed": false
   },
   "outputs": [],
   "source": [
    "mom0s = ds.sum(axis=0)\n",
    "plt.imshow(mom0s,origin=['Lower'])\n",
    "plt.colorbar()"
   ]
  },
  {
   "cell_type": "markdown",
   "metadata": {},
   "source": [
    "## Velocity fields\n",
    "\n",
    "The mean velocity is defined a the first moment\n",
    "\n",
    "$$\n",
    "<V> = {\\Sigma{(v.I)} \\over \\Sigma{(I)} }\n",
    "$$"
   ]
  },
  {
   "cell_type": "code",
   "execution_count": null,
   "metadata": {
    "collapsed": false
   },
   "outputs": [],
   "source": [
    "nz = d.shape[0]\n",
    "vchan = np.arange(nz).reshape(nz,1,1)\n",
    "vsum = vchan * d\n",
    "vmean = vsum.sum(axis=0)/d.sum(axis=0)\n",
    "print \"MINMAX\",vmean.min(),vmean.max()\n",
    "plt.imshow(vmean,origin=['Lower'],vmin=0,vmax=88)\n",
    "plt.colorbar()"
   ]
  },
  {
   "cell_type": "markdown",
   "metadata": {},
   "source": [
    "Although we can recognize an area of coherent motions (the red and blue shifted sides of the galaxy), there is a lot of noise in this image. Looking at the math, we are dividing two numbers, both of which can be noise, so the outcome can be \"anything\".  If anything, it should be a value between 0 and 88, so we could mask for that and see how that looks.\n",
    "\n",
    "Let us first try to see how the smoothed cube looked."
   ]
  },
  {
   "cell_type": "code",
   "execution_count": null,
   "metadata": {
    "collapsed": false
   },
   "outputs": [],
   "source": [
    "nz = ds.shape[0]\n",
    "vchan = np.arange(nz).reshape(nz,1,1)\n",
    "vsum = vchan * ds\n",
    "vmean = vsum.sum(axis=0)/ds.sum(axis=0)\n",
    "print vmean.shape,vmean.min(),vmean.max()\n",
    "plt.imshow(vmean,origin=['Lower'],vmin=0,vmax=89)\n",
    "plt.colorbar()"
   ]
  },
  {
   "cell_type": "markdown",
   "metadata": {},
   "source": [
    "Although more coherent, there are still bogus values outside the image of the galaxy. So we are looking for a hybrid of the two methods.  In the smooth cube we saw the signal to noise is a lot better defined, so we will define areas in the cube where the signal to noise is high enough and use those in the original high resolution cube."
   ]
  },
  {
   "cell_type": "code",
   "execution_count": null,
   "metadata": {
    "collapsed": false
   },
   "outputs": [],
   "source": [
    "# this is all messy , we need a better solution, a hybrid of the two:\n",
    "noise = ds[0:5].flatten()\n",
    "(n,b,p) = plt.hist(noise,bins=100)\n",
    "print noise.mean(), noise.std()"
   ]
  },
  {
   "cell_type": "code",
   "execution_count": null,
   "metadata": {
    "collapsed": false
   },
   "outputs": [],
   "source": [
    "sigma0 = noise.std()\n",
    "nsigma = 5.0\n",
    "cutoff = sigma0*nsigma\n",
    "dm = ma.masked_inside(ds,-cutoff,cutoff)\n",
    "print cutoff,dm.count()"
   ]
  },
  {
   "cell_type": "code",
   "execution_count": null,
   "metadata": {
    "collapsed": false
   },
   "outputs": [],
   "source": [
    "dm2=ma.masked_where(ma.getmask(dm),d)"
   ]
  },
  {
   "cell_type": "code",
   "execution_count": null,
   "metadata": {
    "collapsed": false
   },
   "outputs": [],
   "source": [
    "vsum = vchan * dm2\n",
    "vmean = vsum.sum(axis=0)/dm2.sum(axis=0)\n",
    "print vmean.min(),vmean.max()\n",
    "plt.imshow(vmean,origin=['Lower'],vmin=0,vmax=89)\n",
    "plt.colorbar()"
   ]
  },
  {
   "cell_type": "markdown",
   "metadata": {},
   "source": [
    "And voila, now this looks a lot better."
   ]
  }
 ],
 "metadata": {
  "anaconda-cloud": {},
  "kernelspec": {
   "display_name": "Python [default]",
   "language": "python",
   "name": "python3"
  },
  "language_info": {
   "codemirror_mode": {
    "name": "ipython",
    "version": 3
   },
   "file_extension": ".py",
   "mimetype": "text/x-python",
   "name": "python",
   "nbconvert_exporter": "python",
   "pygments_lexer": "ipython3",
   "version": "3.5.2"
  }
 },
 "nbformat": 4,
 "nbformat_minor": 0
}
