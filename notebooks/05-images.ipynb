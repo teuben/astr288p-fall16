{
 "cells": [
  {
   "cell_type": "markdown",
   "metadata": {},
   "source": [
    "#  Images: rows, columns and all that jazzy mess....\n",
    "\n",
    "Two dimensional data arrays are normally stored in column-major or row-major order. In row-major order adjacent elements in a row are stored next to each other in memory. In column-major order adjacent elements in a column are stored next to each other in memory. See also https://en.wikipedia.org/wiki/Matrix_representation\n",
    "\n",
    "\n",
    "For the usual mathematical matrix notation $A_{ij}$, where $i$ is the row, and $j$ the column, we have in the case of a $3x4$ matrix:\n",
    "$$\n",
    "A = \\begin{bmatrix}\n",
    "a_{11} & a_{12} & a_{13} & a_{14}\\\\\n",
    "a_{21} & a_{22} & a_{23} & a_{24}\\\\\n",
    "a_{31} & a_{32} & a_{33} & a_{34}\\\\\n",
    "\\end{bmatrix}\n",
    "$$\n",
    "Classic languages such as Fortran store their arrays in so-called column-major order. **FDATA(NR,NC)**, and indices started at 1 with the first versions.\n",
    "More modern language, such a C, store their arrays in row-major order,  **CDATA[NR][NC]**, with indices starting at 0.\n",
    "```\n",
    "    col major:   fdata(1,1),  fdata(2,1), ...        first index runs fastest \n",
    "    row major:   cdata[0][0], cdata[0][1], ...       last index runs fastest  \n",
    "```\n",
    "Examples of column major are: Fortran, [FITS], MatLab, IDL, R, Julia\n",
    "\n",
    "Examples of row major are: C, Python, (java)\n",
    "\n",
    "Images are often referred to in X and Y coordinates, like a mathematical system. The origin would be at (0,0) in the lower left corner. Image processing software normally puts the (0,0) origin at the top left corner, which corresponds a bit how the matrix above is printed. This, together with row-major and column-major can make it challenging to interchange data and plot them on the screen.\n",
    "\n",
    "Add to this that for very large data, re-ordering axes can be a very expensive operation.\n",
    "\n",
    "See also https://en.wikipedia.org/wiki/Iliffe_vector for another view on storing data in multi-dimensional arrays. "
   ]
  },
  {
   "cell_type": "code",
   "execution_count": 1,
   "metadata": {
    "collapsed": true
   },
   "outputs": [],
   "source": [
    "%matplotlib inline\n",
    "import matplotlib.pyplot as plt\n",
    "\n",
    "import numpy as np\n",
    "# import pyfits as fits               # deprecated\n",
    "from astropy.io import fits         "
   ]
  },
  {
   "cell_type": "markdown",
   "metadata": {},
   "source": [
    "Get the Header-Data-Units (hdu's) from a fits file. This particular one only has 1."
   ]
  },
  {
   "cell_type": "code",
   "execution_count": 2,
   "metadata": {
    "collapsed": false
   },
   "outputs": [
    {
     "name": "stdout",
     "output_type": "stream",
     "text": [
      "1\n"
     ]
    }
   ],
   "source": [
    "hdu = fits.open('../data/cube432.fits')\n",
    "print(len(hdu))"
   ]
  },
  {
   "cell_type": "code",
   "execution_count": 3,
   "metadata": {
    "collapsed": false
   },
   "outputs": [
    {
     "name": "stdout",
     "output_type": "stream",
     "text": [
      "(2, 3, 4)\n",
      "[[[   0.    1.    2.    3.]\n",
      "  [  10.   11.   12.   13.]\n",
      "  [  20.   21.   22.   23.]]\n",
      "\n",
      " [[ 100.  101.  102.  103.]\n",
      "  [ 110.  111.  112.  113.]\n",
      "  [ 120.  121.  122.  123.]]]\n"
     ]
    }
   ],
   "source": [
    "h = hdu[0].header\n",
    "d = hdu[0].data\n",
    "\n",
    "print(d.shape)\n",
    "print(d)"
   ]
  },
  {
   "cell_type": "markdown",
   "metadata": {},
   "source": [
    "This 4x3x2 matrix can actually also be generated from scratch using basic numpy:"
   ]
  },
  {
   "cell_type": "code",
   "execution_count": 4,
   "metadata": {
    "collapsed": false
   },
   "outputs": [
    {
     "name": "stdout",
     "output_type": "stream",
     "text": [
      "[[[   0.    1.    2.    3.]\n",
      "  [  10.   11.   12.   13.]\n",
      "  [  20.   21.   22.   23.]]\n",
      "\n",
      " [[ 100.  101.  102.  103.]\n",
      "  [ 110.  111.  112.  113.]\n",
      "  [ 120.  121.  122.  123.]]]\n"
     ]
    }
   ],
   "source": [
    "d1 = np.zeros(2*3*4).reshape(2,3,4)\n",
    "for z in range(2):\n",
    "    for y in range(3):\n",
    "        for x in range(4):\n",
    "            d1[z,y,x] = x + 10*y + 100*z\n",
    "print(d1)"
   ]
  },
  {
   "cell_type": "code",
   "execution_count": 5,
   "metadata": {
    "collapsed": false
   },
   "outputs": [
    {
     "name": "stdout",
     "output_type": "stream",
     "text": [
      "[   0.    1.    2.    3.   10.   11.   12.   13.   20.   21.   22.   23.\n",
      "  100.  101.  102.  103.  110.  111.  112.  113.  120.  121.  122.  123.]\n"
     ]
    }
   ],
   "source": [
    "print(d1.flatten())"
   ]
  },
  {
   "cell_type": "code",
   "execution_count": 6,
   "metadata": {
    "collapsed": false
   },
   "outputs": [
    {
     "data": {
      "text/plain": [
       "True"
      ]
     },
     "execution_count": 6,
     "metadata": {},
     "output_type": "execute_result"
    }
   ],
   "source": [
    "# are two arrays the same (or close enough?)\n",
    "np.allclose(d,d1)"
   ]
  },
  {
   "cell_type": "markdown",
   "metadata": {},
   "source": [
    "We now want to take a plane from this cube, and plot this in a heatmap or contour map. We are now faced deciding how columns and rows translate to X and Y on a plot. Math, Astronomy, Geography and Image Processing groups all differ a bit how they prefer to see this, so numpy comes  with a number of function to help you with this:\n",
    "\n",
    "* np.reshape\n",
    "* np.transpose (or T)\n",
    "* np.flipud\n",
    "* np.fliprd\n",
    "* np.rot90\n",
    "* np.swapaxes\n",
    "* np.moveaxis\n",
    "\n",
    "the important thing to realize is that they all give a new **view** of the array, which often is more efficient as moving the actual values."
   ]
  },
  {
   "cell_type": "code",
   "execution_count": 7,
   "metadata": {
    "collapsed": false
   },
   "outputs": [
    {
     "name": "stdout",
     "output_type": "stream",
     "text": [
      "[[ 20.  21.  22.  23.]\n",
      " [ 10.  11.  12.  13.]\n",
      " [  0.   1.   2.   3.]]\n"
     ]
    },
    {
     "data": {
      "text/plain": [
       "<matplotlib.colorbar.Colorbar at 0x7f41d02628d0>"
      ]
     },
     "execution_count": 7,
     "metadata": {},
     "output_type": "execute_result"
    },
    {
     "data": {
      "image/png": "[encoded data removed]",
      "text/plain": [
       "<matplotlib.figure.Figure at 0x7f41f8af8ac8>"
      ]
     },
     "metadata": {},
     "output_type": "display_data"
    }
   ],
   "source": [
    "p0 = d[0,:,:]\n",
    "p1 = d[1,:,:]\n",
    "print(np.flipud(p0))\n",
    "plt.imshow(p0)\n",
    "plt.colorbar()"
   ]
  },
  {
   "cell_type": "code",
   "execution_count": 8,
   "metadata": {
    "collapsed": false
   },
   "outputs": [
    {
     "data": {
      "text/plain": [
       "<matplotlib.image.AxesImage at 0x7f41d0219278>"
      ]
     },
     "execution_count": 8,
     "metadata": {},
     "output_type": "execute_result"
    },
    {
     "data": {
      "image/png": "[encoded data removed]",
      "text/plain": [
       "<matplotlib.figure.Figure at 0x7f41d03364a8>"
      ]
     },
     "metadata": {},
     "output_type": "display_data"
    }
   ],
   "source": [
    "plt.matshow(p0,origin='lower')"
   ]
  },
  {
   "cell_type": "markdown",
   "metadata": {},
   "source": [
    "Note that for a small 4x3 matrix this image has been artificially made smooth by interpolating in imshow(); however you can already see that the integer coordinates are at the center of a cell:  (0.0) is the center of the lower left cell. This is a little more when you turn off interpolation:\n"
   ]
  },
  {
   "cell_type": "code",
   "execution_count": 9,
   "metadata": {
    "collapsed": false
   },
   "outputs": [
    {
     "data": {
      "text/plain": [
       "<matplotlib.colorbar.Colorbar at 0x7f41d01b0940>"
      ]
     },
     "execution_count": 9,
     "metadata": {},
     "output_type": "execute_result"
    },
    {
     "data": {
      "image/png": "[encoded data removed]",
      "text/plain": [
       "<matplotlib.figure.Figure at 0x7f41d0104710>"
      ]
     },
     "metadata": {},
     "output_type": "display_data"
    }
   ],
   "source": [
    "plt.imshow(p0,interpolation='none')\n",
    "plt.colorbar()"
   ]
  },
  {
   "cell_type": "markdown",
   "metadata": {},
   "source": [
    "if you want to print the array values on the terminal with 0 at the bottom left, use the np.flipup() function:"
   ]
  },
  {
   "cell_type": "code",
   "execution_count": 10,
   "metadata": {
    "collapsed": false
   },
   "outputs": [
    {
     "name": "stdout",
     "output_type": "stream",
     "text": [
      "[[ 20.  21.  22.  23.]\n",
      " [ 10.  11.  12.  13.]\n",
      " [  0.   1.   2.   3.]]\n"
     ]
    },
    {
     "data": {
      "text/plain": [
       "<matplotlib.colorbar.Colorbar at 0x7f41d0048a58>"
      ]
     },
     "execution_count": 10,
     "metadata": {},
     "output_type": "execute_result"
    },
    {
     "data": {
      "image/png": "[encoded data removed]",
      "text/plain": [
       "<matplotlib.figure.Figure at 0x7f41d01fbf60>"
      ]
     },
     "metadata": {},
     "output_type": "display_data"
    }
   ],
   "source": [
    "print(np.flipud(p0))\n",
    "plt.imshow(np.flipud(p0),interpolation='none')\n",
    "plt.colorbar()"
   ]
  },
  {
   "cell_type": "markdown",
   "metadata": {},
   "source": [
    "Arrays in numpy are in C-order (row-major) by default, but you can actually change it to Fortran-order (column-major):"
   ]
  },
  {
   "cell_type": "code",
   "execution_count": 11,
   "metadata": {
    "collapsed": false
   },
   "outputs": [
    {
     "name": "stdout",
     "output_type": "stream",
     "text": [
      "C\n",
      " [[ 0  1  2  3]\n",
      " [ 4  5  6  7]\n",
      " [ 8  9 10 11]]\n",
      "F\n",
      " [[ 0  3  6  9]\n",
      " [ 1  4  7 10]\n",
      " [ 2  5  8 11]]\n"
     ]
    },
    {
     "data": {
      "text/plain": [
       "array([[ 0,  1,  2],\n",
       "       [ 3,  4,  5],\n",
       "       [ 6,  7,  8],\n",
       "       [ 9, 10, 11]])"
      ]
     },
     "execution_count": 11,
     "metadata": {},
     "output_type": "execute_result"
    }
   ],
   "source": [
    "d2 = np.arange(3*4).reshape(3,4,order='C')\n",
    "d3 = np.arange(3*4).reshape(3,4,order='F')\n",
    "print('C\\n',d2)\n",
    "print('F\\n',d3)\n",
    "d3.transpose()"
   ]
  },
  {
   "cell_type": "markdown",
   "metadata": {},
   "source": [
    "## CASA\n",
    "\n",
    "CASA is a python package used in radio astronomy (ALMA, VLA etc.), but is peculiar in the sense that it caters to astronomers with a fortran background, or mathematicians with a DATA(x,y) expectation: CASA uses column-major arrays with an index starting at 0. CASA images can also store a mask alongside the data, but the logic is the reverse from the masking used in **numpy.ma**: in CASA a True means a good data point, in numpy it means a bad point!\n",
    "\n",
    "Notebooks don't work within casa (yet), but if you install **casacore** in your local python, the examples below should work. The [kernsuite](http://kernsuite.info/) software should give you one easy option to install casacore, another way is to compile the code directly from https://github.com/casacore/casacore\n",
    "\n",
    "Hence the example here is shown inline, and not in the notebook form yet. (note CASA currently uses python2)\n",
    "\n",
    "```\n",
    "casa\n",
    "\n",
    "ia.open('../data/cube432.fits')\n",
    "d1 = ia.getchunk()\n",
    "d1.shape\n",
    " (4,3,2)\n",
    "d1[3,2,1]\n",
    "  123.0\n",
    "  \n",
    "print d1\n",
    "[[[   0.  100.]\n",
    "  [  10.  110.]\n",
    "  [  20.  120.]]\n",
    "\n",
    " [[   1.  101.]\n",
    "  [  11.  111.]\n",
    "  [  21.  121.]]\n",
    "\n",
    " [[   2.  102.]\n",
    "  [  12.  112.]\n",
    "  [  22.  122.]]\n",
    "\n",
    " [[   3.  103.]\n",
    "  [  13.  113.]\n",
    "  [  23.  123.]]]\n",
    "\n",
    "p0 = d1[:,:,0]\n",
    "\n",
    "print p0\n",
    "[[  0.  10.  20.]\n",
    " [  1.  11.  21.]\n",
    " [  2.  12.  22.]\n",
    " [  3.  13.  23.]]\n",
    " \n",
    "print np.flipud(np.rot90(p0))\n",
    "[[  0.   1.   2.   3.]\n",
    " [ 10.  11.  12.  13.]\n",
    " [ 20.  21.  22.  23.]]\n",
    " \n",
    "print np.flipud(np.rot90(p0)).flatten()\n",
    "[  0.   1.   2.   3.  10.  11.  12.  13.  20.  21.  22.  23.]\n",
    "\n",
    "# mask boolean in CASA is the opposite of the one in numpy.ma\n",
    "d1m = ia.getchunk(getmask=True)\n",
    "print d1[0,0,0],d1m[0,0,0]\n",
    "0.0 True\n",
    "\n",
    "# or create the array from scratch\n",
    "ia.fromshape(shape=[4,3,2])\n",
    "p2 = ia.getchunk()\n",
    "p2.shape\n",
    " (4,3,2)\n",
    "etc.etc.\n",
    "\n",
    "```\n"
   ]
  },
  {
   "cell_type": "markdown",
   "metadata": {},
   "source": [
    "## casacore and casacore-python\n",
    "\n",
    "Using just casacore, you will find the equivalent getchunk() is now called getdata() and converts to a proper numpy array without the need for np.rot90() and np.flipud(). The casacore-python version is able to work in python3 as well."
   ]
  },
  {
   "cell_type": "code",
   "execution_count": 12,
   "metadata": {
    "collapsed": false
   },
   "outputs": [
    {
     "name": "stdout",
     "output_type": "stream",
     "text": [
      "we have casacore\n",
      "[2, 3, 4]\n",
      "float\n",
      "(2, 3, 4)\n",
      "0.0 False\n"
     ]
    }
   ],
   "source": [
    "try:\n",
    "    import casacore.images.image as image\n",
    "    print(\"we have casacore\")\n",
    "    im = image('../data/cube432.fits')\n",
    "    print(im.shape())           #   ->   [2, 3, 4]\n",
    "    print(im.datatype())        #   -> 'float'\n",
    "    d=im.getdata()\n",
    "    m=im.getmask()\n",
    "    print(d.shape)              # -> (2,3,4)\n",
    "    print(d[0,0,0],m[0,0,0])\n",
    "    \"\"\"\n",
    "   [[[[   0.    1.    2.    3.]\n",
    "      [  10.   11.   12.   13.]\n",
    "      [  20.   21.   22.   23.]]\n",
    "\n",
    "     [[ 100.  101.  102.  103.]\n",
    "      [ 110.  111.  112.  113.]\n",
    "      [ 120.  121.  122.  123.]]\n",
    "   \"\"\"\n",
    "except:\n",
    "    print(\"no casacore\")"
   ]
  },
  {
   "cell_type": "code",
   "execution_count": 13,
   "metadata": {
    "collapsed": false
   },
   "outputs": [
    {
     "name": "stdout",
     "output_type": "stream",
     "text": [
      "6 4\n",
      "[0 1 2 3] [False False  True False]\n"
     ]
    }
   ],
   "source": [
    "import numpy.ma as ma\n",
    "\n",
    "a = np.arange(4)\n",
    "am = ma.masked_equal(a,2)\n",
    "print(a.sum(),am.sum())\n",
    "print(am.data,am.mask)"
   ]
  },
  {
   "cell_type": "markdown",
   "metadata": {},
   "source": [
    "### Arrray Transposing"
   ]
  },
  {
   "cell_type": "code",
   "execution_count": 14,
   "metadata": {
    "collapsed": false
   },
   "outputs": [
    {
     "name": "stdout",
     "output_type": "stream",
     "text": [
      "1030200\n",
      "-1.0856306033\n",
      "CPU times: user 68 ms, sys: 52 ms, total: 120 ms\n",
      "Wall time: 119 ms\n"
     ]
    }
   ],
   "source": [
    "%%time\n",
    "n = 100\n",
    "n1 = n\n",
    "n2 = n+1\n",
    "n3 = n+2\n",
    "np.random.seed(123)\n",
    "a = np.random.normal(size=n1*n2*n3).reshape(n1,n2,n3)\n",
    "print(len(a.flatten()))\n",
    "print(a[0,0,0])"
   ]
  },
  {
   "cell_type": "code",
   "execution_count": 15,
   "metadata": {
    "collapsed": false
   },
   "outputs": [
    {
     "name": "stdout",
     "output_type": "stream",
     "text": [
      "CPU times: user 0 ns, sys: 0 ns, total: 0 ns\n",
      "Wall time: 12.4 µs\n"
     ]
    }
   ],
   "source": [
    "%%time\n",
    "b = a.transpose()"
   ]
  },
  {
   "cell_type": "markdown",
   "metadata": {},
   "source": [
    "## Inner and Outer loop order of execution\n",
    "\n",
    "Set up a (random) square matrix and vector. Multiply the matrix with a vector and measure the performance difference if you order the loops differently."
   ]
  },
  {
   "cell_type": "code",
   "execution_count": 16,
   "metadata": {
    "collapsed": false
   },
   "outputs": [
    {
     "name": "stdout",
     "output_type": "stream",
     "text": [
      "-2.42667924339\n",
      "CPU times: user 0 ns, sys: 0 ns, total: 0 ns\n",
      "Wall time: 349 µs\n"
     ]
    }
   ],
   "source": [
    "%%time \n",
    "n = 2\n",
    "m = n+1\n",
    "np.random.seed(123)\n",
    "a = np.random.normal(size=m*n).reshape(m,n)\n",
    "x = np.random.normal(size=n)\n",
    "print(x[0])\n",
    "#\n",
    "#a = np.arange(n*n).reshape(n,n)\n",
    "#x = np.arange(n)"
   ]
  },
  {
   "cell_type": "code",
   "execution_count": 17,
   "metadata": {
    "collapsed": false
   },
   "outputs": [
    {
     "name": "stdout",
     "output_type": "stream",
     "text": [
      "(3, 2) (2,) (3,)\n",
      "CPU times: user 0 ns, sys: 0 ns, total: 0 ns\n",
      "Wall time: 562 µs\n"
     ]
    }
   ],
   "source": [
    "%%time\n",
    "b = np.matmul(a,x)\n",
    "print(a.shape,x.shape,b.shape)"
   ]
  },
  {
   "cell_type": "code",
   "execution_count": 18,
   "metadata": {
    "collapsed": false
   },
   "outputs": [
    {
     "name": "stdout",
     "output_type": "stream",
     "text": [
      "CPU times: user 0 ns, sys: 0 ns, total: 0 ns\n",
      "Wall time: 34.6 µs\n"
     ]
    }
   ],
   "source": [
    "%%time\n",
    "b1 = np.zeros(m)\n",
    "for i in range(m):\n",
    "    for j in range(n):\n",
    "        b1[i] = b1[i] + a[i,j]*x[j]"
   ]
  },
  {
   "cell_type": "code",
   "execution_count": 19,
   "metadata": {
    "collapsed": false
   },
   "outputs": [
    {
     "name": "stdout",
     "output_type": "stream",
     "text": [
      "CPU times: user 0 ns, sys: 0 ns, total: 0 ns\n",
      "Wall time: 157 µs\n"
     ]
    }
   ],
   "source": [
    "%%time\n",
    "b2 = np.zeros(m)\n",
    "for i in range(m):\n",
    "    ai = a[i,:]\n",
    "    b2[i] = np.inner(ai,x)"
   ]
  },
  {
   "cell_type": "code",
   "execution_count": 20,
   "metadata": {
    "collapsed": false
   },
   "outputs": [
    {
     "name": "stdout",
     "output_type": "stream",
     "text": [
      "CPU times: user 0 ns, sys: 0 ns, total: 0 ns\n",
      "Wall time: 33.1 µs\n"
     ]
    }
   ],
   "source": [
    "%%time\n",
    "b3 = np.zeros(m)\n",
    "for j in range(n):\n",
    "    for i in range(m):\n",
    "        b3[i] = b3[i] + a[i,j]*x[j]"
   ]
  },
  {
   "cell_type": "code",
   "execution_count": 21,
   "metadata": {
    "collapsed": false
   },
   "outputs": [
    {
     "name": "stdout",
     "output_type": "stream",
     "text": [
      "a [[-1.0856306   0.99734545]\n",
      " [ 0.2829785  -1.50629471]\n",
      " [-0.57860025  1.65143654]] \n",
      "x [-2.42667924 -0.42891263]\n",
      "b [ 2.20670319 -0.04062922  0.69575524] \n",
      "b1 [ 2.20670319 -0.04062922  0.69575524] \n",
      "b2 [ 2.20670319 -0.04062922  0.69575524] \n",
      "b3 [ 2.20670319 -0.04062922  0.69575524]\n"
     ]
    }
   ],
   "source": [
    "if n < 3:\n",
    "    print('a',a,'\\nx',x)\n",
    "    print('b',b,'\\nb1',b1,'\\nb2',b2,'\\nb3',b3)\n",
    "else:\n",
    "    print(n)"
   ]
  },
  {
   "cell_type": "markdown",
   "metadata": {},
   "source": [
    "### Matrix Inversion"
   ]
  },
  {
   "cell_type": "code",
   "execution_count": 22,
   "metadata": {
    "collapsed": true
   },
   "outputs": [],
   "source": [
    "from numpy.linalg import inv\n"
   ]
  },
  {
   "cell_type": "code",
   "execution_count": 23,
   "metadata": {
    "collapsed": true
   },
   "outputs": [],
   "source": [
    "n = 2\n",
    "a1 = np.random.normal(size=n*n).reshape(n,n)"
   ]
  },
  {
   "cell_type": "code",
   "execution_count": 24,
   "metadata": {
    "collapsed": false
   },
   "outputs": [
    {
     "name": "stdout",
     "output_type": "stream",
     "text": [
      "CPU times: user 0 ns, sys: 0 ns, total: 0 ns\n",
      "Wall time: 126 µs\n"
     ]
    }
   ],
   "source": [
    "%%time\n",
    "ainv = inv(a1)"
   ]
  },
  {
   "cell_type": "code",
   "execution_count": 25,
   "metadata": {
    "collapsed": false
   },
   "outputs": [
    {
     "name": "stdout",
     "output_type": "stream",
     "text": [
      "[[ 1.26593626 -0.8667404 ]\n",
      " [-0.67888615 -0.09470897]]\n",
      "[[ 0.13371051 -1.22366764]\n",
      " [-0.95845424 -1.78725399]]\n"
     ]
    }
   ],
   "source": [
    "print(a1)\n",
    "print(ainv)"
   ]
  },
  {
   "cell_type": "code",
   "execution_count": 26,
   "metadata": {
    "collapsed": false
   },
   "outputs": [],
   "source": [
    "i1=np.matmul(a1,ainv)"
   ]
  },
  {
   "cell_type": "code",
   "execution_count": 27,
   "metadata": {
    "collapsed": false
   },
   "outputs": [],
   "source": [
    "i0=np.eye(n)"
   ]
  },
  {
   "cell_type": "code",
   "execution_count": 28,
   "metadata": {
    "collapsed": false
   },
   "outputs": [
    {
     "name": "stdout",
     "output_type": "stream",
     "text": [
      "True\n",
      "[[  1.00000000e+00   0.00000000e+00]\n",
      " [  2.77555756e-17   1.00000000e+00]]\n"
     ]
    }
   ],
   "source": [
    "print(np.allclose(i0,i1,atol=1e-10))\n",
    "print(i1)"
   ]
  },
  {
   "cell_type": "markdown",
   "metadata": {
    "collapsed": true
   },
   "source": [
    "The last execution should be ** In[28]**"
   ]
  }
 ],
 "metadata": {
  "anaconda-cloud": {},
  "kernelspec": {
   "display_name": "Python [default]",
   "language": "python",
   "name": "python3"
  },
  "language_info": {
   "codemirror_mode": {
    "name": "ipython",
    "version": 3
   },
   "file_extension": ".py",
   "mimetype": "text/x-python",
   "name": "python",
   "nbconvert_exporter": "python",
   "pygments_lexer": "ipython3",
   "version": "3.5.2"
  }
 },
 "nbformat": 4,
 "nbformat_minor": 1
}
