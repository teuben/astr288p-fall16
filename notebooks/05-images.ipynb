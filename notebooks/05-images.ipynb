{
 "cells": [
  {
   "cell_type": "markdown",
   "metadata": {},
   "source": [
    "#  Images: rows, columns and all that jazzy mess....\n",
    "\n",
    "Two dimensional data arrays are normally stored in column-major or row-major order. In row-major order consecutive elements of the rows are stored next to each other in memory. In column-major order consecutive elements of the columns are stored next to each other in memory. See also https://en.wikipedia.org/wiki/Matrix_representation\n",
    "\n",
    "\n",
    "For the usual mathematical matrix notation $A_{ij}$, where $i$ is the row, and $j$ the column, we have:\n",
    "$$\n",
    "A = \\begin{bmatrix}\n",
    "a_{11} & a_{12} & a_{13} \\\\\n",
    "a_{21} & a_{22} & a_{23} \\end{bmatrix}\n",
    "$$\n",
    "Classic languages such as Fortran store their arrays in so-called column-major order. **FDATA(NC,NR)**, and indices started at 1 with the first versions.\n",
    "More modern language, such a C, store their arrays in row-major order,  **CDATA[NR][NC]**, with indices starting at 0.\n",
    "\n",
    "Images are often referred to in X and Y coordinates, like a mathematical system. The origin would be at (0,0) in the lower left corner. Image processing software normally puts the (0,0) origin at the top left corner. This, together with row-major and column-major can make it challenging to interchange data and plot them on the screen.\n",
    "\n",
    "Add to this that for very large data, re-ordering axes can be a very expensive operation."
   ]
  },
  {
   "cell_type": "code",
   "execution_count": 1,
   "metadata": {
    "collapsed": true
   },
   "outputs": [],
   "source": [
    "%matplotlib inline\n",
    "import matplotlib.pyplot as plt\n",
    "\n",
    "import numpy as np\n",
    "# import pyfits as fits               # deprecated\n",
    "from astropy.io import fits         "
   ]
  },
  {
   "cell_type": "markdown",
   "metadata": {},
   "source": [
    "Get the Header-Data-Units (hdu's) from a fits file. This particular one only has 1."
   ]
  },
  {
   "cell_type": "code",
   "execution_count": 2,
   "metadata": {
    "collapsed": false
   },
   "outputs": [
    {
     "name": "stdout",
     "output_type": "stream",
     "text": [
      "1\n"
     ]
    }
   ],
   "source": [
    "hdu = fits.open('../data/cube432.fits')\n",
    "print(len(hdu))"
   ]
  },
  {
   "cell_type": "code",
   "execution_count": null,
   "metadata": {
    "collapsed": false
   },
   "outputs": [],
   "source": [
    "h = hdu[0].header\n",
    "d = hdu[0].data\n",
    "\n",
    "print(d.shape)\n",
    "print(d)"
   ]
  },
  {
   "cell_type": "markdown",
   "metadata": {},
   "source": [
    "This 4x3x2 matrix can actually also be generated from scratch using basic numpy:"
   ]
  },
  {
   "cell_type": "code",
   "execution_count": null,
   "metadata": {
    "collapsed": false
   },
   "outputs": [],
   "source": [
    "d1 = np.zeros(2*3*4).reshape(2,3,4)\n",
    "for z in range(2):\n",
    "    for y in range(3):\n",
    "        for x in range(4):\n",
    "            d1[z,y,x] = x + 10*y + 100*z\n",
    "print(d1)"
   ]
  },
  {
   "cell_type": "code",
   "execution_count": null,
   "metadata": {
    "collapsed": false
   },
   "outputs": [],
   "source": [
    "print(d1.flatten())"
   ]
  },
  {
   "cell_type": "code",
   "execution_count": null,
   "metadata": {
    "collapsed": false
   },
   "outputs": [],
   "source": [
    "p0 = d[0,:,:]\n",
    "p1 = d[1,:,:]\n",
    "print(p0)\n",
    "plt.imshow(p0,origin='lower')\n",
    "plt.colorbar()"
   ]
  },
  {
   "cell_type": "markdown",
   "metadata": {},
   "source": [
    "Note that for a small 4x3 matrix this image has been artificially made smooth by interpolating in imshow(); however you can already see that the integer coordinates are at the center of a cell:  (0.0) is the center of the lower left cell. This is a little more when you turn off interpolation:\n"
   ]
  },
  {
   "cell_type": "code",
   "execution_count": null,
   "metadata": {
    "collapsed": false
   },
   "outputs": [],
   "source": [
    "plt.imshow(p0,origin='lower',interpolation='none')\n",
    "plt.colorbar()"
   ]
  },
  {
   "cell_type": "code",
   "execution_count": null,
   "metadata": {
    "collapsed": false
   },
   "outputs": [],
   "source": [
    "# if you want to print the array on the screen with 0 at the bottom left, use the np.flipup() function:\n",
    "print(np.flipud(p0))"
   ]
  },
  {
   "cell_type": "markdown",
   "metadata": {},
   "source": [
    "Arrays in numpy are in C-order (row-major) by default, but you can actually change it to Fortran-order (column-major):"
   ]
  },
  {
   "cell_type": "code",
   "execution_count": null,
   "metadata": {
    "collapsed": false
   },
   "outputs": [],
   "source": [
    "d2 = np.arange(3*4).reshape(3,4,order='C')\n",
    "d3 = np.arange(3*4).reshape(3,4,order='F')\n",
    "print('C\\n',d2)\n",
    "print('F\\n',d3)"
   ]
  },
  {
   "cell_type": "markdown",
   "metadata": {},
   "source": [
    "## CASA\n",
    "\n",
    "CASA is a python package used in radio astronomy (ALMA, VLA etc.), but is peculiar in the sense that it caters to astronomers with a fortran background, or mathematicians with a DATA(x,y) expectation: CASA uses column-major arrays with an index starting at 0. CASA images can also store a mask alongside the data, but the logic is the reverse from the masking used in **numpy.ma**: in CASA a True means a good data point, in numpy it means a bad point!\n",
    "\n",
    "Notebooks don't work within casa (yet), but if you install **casacore** in your local python, the examples below should work. The [kernsuite](http://kernsuite.info/) software should give you one easy option to install casacore, another way is to compile the code directly from https://github.com/casacore/casacore\n",
    "\n",
    "Hence the example here is shown inline, and not in the notebook form yet. (note CASA currently uses python2)\n",
    "\n",
    "```\n",
    "casa\n",
    "\n",
    "ia.open('../data/cube432.fits')\n",
    "d1 = ia.getchunk()\n",
    "d1.shape\n",
    " (4,3,2)\n",
    "d1[3,2,1]\n",
    "  123.0\n",
    "  \n",
    "print d1\n",
    "[[[   0.  100.]\n",
    "  [  10.  110.]\n",
    "  [  20.  120.]]\n",
    "\n",
    " [[   1.  101.]\n",
    "  [  11.  111.]\n",
    "  [  21.  121.]]\n",
    "\n",
    " [[   2.  102.]\n",
    "  [  12.  112.]\n",
    "  [  22.  122.]]\n",
    "\n",
    " [[   3.  103.]\n",
    "  [  13.  113.]\n",
    "  [  23.  123.]]]\n",
    "\n",
    "p0 = d1[:,:,0]\n",
    "\n",
    "print p0\n",
    "[[  0.  10.  20.]\n",
    " [  1.  11.  21.]\n",
    " [  2.  12.  22.]\n",
    " [  3.  13.  23.]]\n",
    " \n",
    "print np.flipud(np.rot90(p0))\n",
    "[[  0.   1.   2.   3.]\n",
    " [ 10.  11.  12.  13.]\n",
    " [ 20.  21.  22.  23.]]\n",
    " \n",
    "print np.flipud(np.rot90(p0)).flatten()\n",
    "[  0.   1.   2.   3.  10.  11.  12.  13.  20.  21.  22.  23.]\n",
    "\n",
    "# or create the array from scratch\n",
    "ia.fromshape(shape=[4,3,2])\n",
    "p2 = ia.getchunk()\n",
    "p2.shape\n",
    " (4,3,2)\n",
    "etc.etc.\n",
    "\n",
    "```\n"
   ]
  },
  {
   "cell_type": "markdown",
   "metadata": {},
   "source": [
    "## casacore and casacore-python\n",
    "\n",
    "Using just casacore, you will find the equivalent getchunk() is now called getdata() and converts to a proper numpy array without the need for np.rot90() and np.flipud(). The casacore-python version is able to work in python3 as well."
   ]
  },
  {
   "cell_type": "code",
   "execution_count": null,
   "metadata": {
    "collapsed": false
   },
   "outputs": [],
   "source": [
    "try:\n",
    "    import casacore.images.image as image\n",
    "    im = image('cube432.fits')\n",
    "    print(im.shape())           #   ->   [1, 2, 3, 4]\n",
    "    print(im.datatype())        #   -> 'float'\n",
    "    d=im.getdata()\n",
    "    m=im.getmask()\n",
    "    print(d.shape)              # -> (1,2,3,4)\n",
    "    \"\"\"\n",
    "   [[[[   0.    1.    2.    3.]\n",
    "      [  10.   11.   12.   13.]\n",
    "      [  20.   21.   22.   23.]]\n",
    "\n",
    "     [[ 100.  101.  102.  103.]\n",
    "      [ 110.  111.  112.  113.]\n",
    "      [ 120.  121.  122.  123.]]\n",
    "   \"\"\"\n",
    "except:\n",
    "    print(\"no casacore\")"
   ]
  },
  {
   "cell_type": "markdown",
   "metadata": {},
   "source": [
    "## Inner and Outer loop order of execution\n",
    "\n",
    "Set up a (random) square matrix and vector. Multiple"
   ]
  },
  {
   "cell_type": "code",
   "execution_count": null,
   "metadata": {
    "collapsed": false
   },
   "outputs": [],
   "source": [
    "%%time \n",
    "n = 100\n",
    "a = np.random.normal(size=n*n).reshape(n,n)\n",
    "x = np.random.normal(size=n)\n",
    "#\n",
    "#a = np.arange(n*n).reshape(n,n)\n",
    "#x = np.arange(n)"
   ]
  },
  {
   "cell_type": "code",
   "execution_count": null,
   "metadata": {
    "collapsed": false
   },
   "outputs": [],
   "source": [
    "%%time\n",
    "b = np.matmul(a,x)"
   ]
  },
  {
   "cell_type": "code",
   "execution_count": null,
   "metadata": {
    "collapsed": false
   },
   "outputs": [],
   "source": [
    "%%time\n",
    "b1 = np.zeros(n)\n",
    "for i in range(n):\n",
    "    for j in range(n):\n",
    "        b1[i] = b1[i] + a[i,j]*x[j]"
   ]
  },
  {
   "cell_type": "code",
   "execution_count": null,
   "metadata": {
    "collapsed": false
   },
   "outputs": [],
   "source": [
    "%%time\n",
    "b2 = np.zeros(n)\n",
    "for j in range(n):\n",
    "    for i in range(n):\n",
    "        b2[i] = b2[i] + a[i,j]*x[j]"
   ]
  },
  {
   "cell_type": "code",
   "execution_count": null,
   "metadata": {
    "collapsed": false
   },
   "outputs": [],
   "source": [
    "print(a,x)\n",
    "print(b,b1,b2)"
   ]
  },
  {
   "cell_type": "code",
   "execution_count": null,
   "metadata": {
    "collapsed": true
   },
   "outputs": [],
   "source": []
  },
  {
   "cell_type": "code",
   "execution_count": null,
   "metadata": {
    "collapsed": true
   },
   "outputs": [],
   "source": []
  }
 ],
 "metadata": {
  "anaconda-cloud": {},
  "kernelspec": {
   "display_name": "Python [default]",
   "language": "python",
   "name": "python3"
  },
  "language_info": {
   "codemirror_mode": {
    "name": "ipython",
    "version": 3
   },
   "file_extension": ".py",
   "mimetype": "text/x-python",
   "name": "python",
   "nbconvert_exporter": "python",
   "pygments_lexer": "ipython3",
   "version": "3.5.2"
  }
 },
 "nbformat": 4,
 "nbformat_minor": 1
}
