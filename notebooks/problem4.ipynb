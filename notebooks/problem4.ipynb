{
 "cells": [
  {
   "cell_type": "markdown",
   "metadata": {},
   "source": [
    "# problem 4:\n",
    "\n",
    "\n",
    "Create a numpy array of length 'N' (where N will an input, lets say\n",
    "1000, or 10000), random gaussian numbers, with a mean value of 10.0 and\n",
    "a dispersion of 5.0.\n",
    "   \n",
    "**Bonus question**:  how many negative numbers would you expect?\n",
    "\n",
    "From this array create an array that contains the differences between\n",
    "two consecutive elements. This array will have length N-1.\n",
    "\n",
    "Plot (like in the 04-plotting notebook) both histograms on one plot,\n",
    "and compute  the ratio of the dispersions of both distributions.\n",
    "\n",
    "**Bonus question**:  this plot looks awkward with the two histograms overlayed.\n",
    "How can you make it nicer? Hint: look through the matplotlib gallery\n",
    "\n"
   ]
  },
  {
   "cell_type": "code",
   "execution_count": null,
   "metadata": {
    "collapsed": true
   },
   "outputs": [],
   "source": [
    "%matplotlib inline\n",
    "\n",
    "import matplotlib.pyplot as plt\n",
    "import numpy as np"
   ]
  },
  {
   "cell_type": "code",
   "execution_count": null,
   "metadata": {
    "collapsed": false
   },
   "outputs": [],
   "source": [
    "#   set the length of the array with random noise\n",
    "n=1000000"
   ]
  },
  {
   "cell_type": "code",
   "execution_count": null,
   "metadata": {
    "collapsed": false
   },
   "outputs": [],
   "source": [
    "%%time \n",
    "g_mean = 10.0\n",
    "g_rms  =  5.0\n",
    "gauss = np.random.normal(g_mean, g_rms,size=n)\n",
    "#gauss = np.random.rand(n)\n",
    "# it takes about twice as long for a normal distribution than a uniform distribution\n",
    "# on my laptop for n=1e6 it takes about 50-70 ms"
   ]
  },
  {
   "cell_type": "markdown",
   "metadata": {},
   "source": [
    "Difference the array from a shifted one. Discard the first and last point from either."
   ]
  },
  {
   "cell_type": "code",
   "execution_count": null,
   "metadata": {
    "collapsed": false
   },
   "outputs": [],
   "source": [
    "%%time\n",
    "delta = gauss[1:]-gauss[:-1]"
   ]
  },
  {
   "cell_type": "code",
   "execution_count": null,
   "metadata": {
    "collapsed": false
   },
   "outputs": [],
   "source": [
    "%%time \n",
    "delta2 = np.diff(gauss)"
   ]
  },
  {
   "cell_type": "code",
   "execution_count": null,
   "metadata": {
    "collapsed": false
   },
   "outputs": [],
   "source": [
    "gh=plt.hist([gauss,delta,delta2],100)"
   ]
  },
  {
   "cell_type": "code",
   "execution_count": null,
   "metadata": {
    "collapsed": false
   },
   "outputs": [],
   "source": [
    "print(gauss.std(),delta.std(),delta2.std())"
   ]
  },
  {
   "cell_type": "code",
   "execution_count": null,
   "metadata": {
    "collapsed": false
   },
   "outputs": [],
   "source": [
    "print(delta.std()/gauss.std()/math.sqrt(2))"
   ]
  }
 ],
 "metadata": {
  "anaconda-cloud": {},
  "kernelspec": {
   "display_name": "Python [default]",
   "language": "python",
   "name": "python3"
  },
  "language_info": {
   "codemirror_mode": {
    "name": "ipython",
    "version": 3
   },
   "file_extension": ".py",
   "mimetype": "text/x-python",
   "name": "python",
   "nbconvert_exporter": "python",
   "pygments_lexer": "ipython3",
   "version": "3.5.2"
  }
 },
 "nbformat": 4,
 "nbformat_minor": 1
}
