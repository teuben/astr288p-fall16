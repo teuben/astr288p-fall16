{
 "cells": [
  {
   "cell_type": "markdown",
   "metadata": {},
   "source": [
    "# Two Dimensional Galactic Orbits - Part 3\n",
    "\n",
    "NEMO does not have a python interface (yet), so just a few comments on an integration of the type of orbit we discussed before, but now using NEMO\n",
    "\n",
    "```\n",
    "   mkorbit out=orb1 x=1 vy=0.1\n",
    "   orblist orb1\n",
    "   \n",
    "   # the interface is described here\n",
    "   more $NEMO/src/orbit/potential/data/plummer.c \n",
    "```  \n",
    "and uses the same expression as we saw before\n",
    "$$\n",
    "    \\Phi = -  {  M  \\over    {   {(r_c^2 + r^2)}^{1/2} }  }\n",
    "$$\n",
    "\n",
    "```\n",
    "   orbint orb1 orb1a 200 0.1 1 potname=plummer mode=euler\n",
    "   orbint orb1 orb1b 200 0.1 potname=plummer mode=leapfrog\n",
    "   orbint orb1 orb1c 200 0.1 1 potname=plummer mode=rk2\n",
    "    \n",
    "   orbplot orb1\n",
    "   orbplot orb2\n",
    "   orbplot orb3\n",
    "```"
   ]
  },
  {
   "cell_type": "code",
   "execution_count": null,
   "metadata": {
    "collapsed": false
   },
   "outputs": [],
   "source": [
    "import nemo"
   ]
  }
 ],
 "metadata": {
  "anaconda-cloud": {},
  "kernelspec": {
   "display_name": "Python [default]",
   "language": "python",
   "name": "python3"
  },
  "language_info": {
   "codemirror_mode": {
    "name": "ipython",
    "version": 3
   },
   "file_extension": ".py",
   "mimetype": "text/x-python",
   "name": "python",
   "nbconvert_exporter": "python",
   "pygments_lexer": "ipython3",
   "version": "3.5.2"
  }
 },
 "nbformat": 4,
 "nbformat_minor": 1
}
