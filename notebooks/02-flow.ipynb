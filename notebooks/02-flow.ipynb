{
 "cells": [
  {
   "cell_type": "markdown",
   "metadata": {},
   "source": [
    "# Python Control Flow\n",
    "\n",
    "* if/then/else\n",
    "* for-loop/else    \n",
    "* while-loop/else  \n"
   ]
  },
  {
   "cell_type": "markdown",
   "metadata": {},
   "source": [
    "## if/then/else\n"
   ]
  },
  {
   "cell_type": "code",
   "execution_count": null,
   "metadata": {
    "collapsed": false
   },
   "outputs": [],
   "source": [
    "a = 1.0\n",
    "if a == 0.0:\n",
    "    print('zero')\n",
    "elif a > 10.0 or a < -10:\n",
    "    print(\"too big\")\n",
    "else:\n",
    "    print(\"close enough\")"
   ]
  },
  {
   "cell_type": "markdown",
   "metadata": {},
   "source": [
    "Things to try in the if/then/else:\n",
    "* seting a=0.001  0.00001   etc.   or try   1e-10  1e-50  1e-100   (when is it really 0)\n",
    "* a=100\n",
    "* a=-5"
   ]
  },
  {
   "cell_type": "markdown",
   "metadata": {},
   "source": [
    "## for-loop\n"
   ]
  },
  {
   "cell_type": "code",
   "execution_count": null,
   "metadata": {
    "collapsed": false
   },
   "outputs": [],
   "source": [
    "for i in [1,3,-1,10,100,0]:\n",
    "    if i<0: \n",
    "        continue\n",
    "    if i>10:\n",
    "        print(\"break\")\n",
    "        break\n",
    "    if i<3:\n",
    "        pass\n",
    "        print(\"pass\")\n",
    "    print(i)\n",
    "else:\n",
    "    print(\"only if there is no break\")"
   ]
  },
  {
   "cell_type": "markdown",
   "metadata": {},
   "source": [
    "Things to try:\n",
    "* i>100   and notice the differences\n"
   ]
  },
  {
   "cell_type": "markdown",
   "metadata": {},
   "source": [
    "## while-loop"
   ]
  },
  {
   "cell_type": "code",
   "execution_count": null,
   "metadata": {
    "collapsed": false
   },
   "outputs": [],
   "source": [
    "a = 0\n",
    "sum = 0\n",
    "while a<10:\n",
    "    a += 1\n",
    "    sum += a\n",
    "    print(a,sum)\n",
    "    if sum>100:\n",
    "        break\n",
    "else:\n",
    "    print(\"final sum\",sum)"
   ]
  },
  {
   "cell_type": "markdown",
   "metadata": {
    "collapsed": true
   },
   "source": [
    "Things to try:\n",
    "* sum>10"
   ]
  },
  {
   "cell_type": "code",
   "execution_count": null,
   "metadata": {
    "collapsed": true
   },
   "outputs": [],
   "source": []
  }
 ],
 "metadata": {
  "kernelspec": {
   "display_name": "Python [default]",
   "language": "python",
   "name": "python3"
  },
  "language_info": {
   "codemirror_mode": {
    "name": "ipython",
    "version": 3
   },
   "file_extension": ".py",
   "mimetype": "text/x-python",
   "name": "python",
   "nbconvert_exporter": "python",
   "pygments_lexer": "ipython3",
   "version": "3.5.2"
  }
 },
 "nbformat": 4,
 "nbformat_minor": 1
}
