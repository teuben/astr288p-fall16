{
 "cells": [
  {
   "cell_type": "markdown",
   "metadata": {},
   "source": [
    "# Python Control Flow\n",
    "\n",
    "* if/then/else\n",
    "* for-loop/else    \n",
    "* while-loop/else\n",
    "* functions\n"
   ]
  },
  {
   "cell_type": "markdown",
   "metadata": {},
   "source": [
    "## if/then/else\n",
    "\n",
    "Note there is no \"```else if```\" or need to indent this, python uses \"```elif```\". Again, note the indentation controls the flow."
   ]
  },
  {
   "cell_type": "code",
   "execution_count": null,
   "metadata": {
    "collapsed": false
   },
   "outputs": [],
   "source": [
    "a = 1.0\n",
    "if a == 0.0:\n",
    "    print('zero')\n",
    "elif a > 10.0 or a < -10:\n",
    "    print(\"too big\")\n",
    "else:\n",
    "    print(\"close enough\")"
   ]
  },
  {
   "cell_type": "markdown",
   "metadata": {},
   "source": [
    "Things to try :\n",
    "* seting a=0.001  0.00001   etc.   or try   1e-10  1e-50  1e-100   (when is it really 0)\n",
    "* a = 100\n",
    "* a = -5"
   ]
  },
  {
   "cell_type": "markdown",
   "metadata": {},
   "source": [
    "## for-loop\n"
   ]
  },
  {
   "cell_type": "code",
   "execution_count": null,
   "metadata": {
    "collapsed": false
   },
   "outputs": [],
   "source": [
    "for i in [1,3,-1,10,100,0]:\n",
    "#for i in range(1,10,2):\n",
    "#for i=[1:2:10]:\n",
    "    if i<0: \n",
    "        continue\n",
    "    if i>10:\n",
    "        print(\"break\")\n",
    "        break\n",
    "    if i<3:\n",
    "        pass\n",
    "        print(\"pass\")\n",
    "    print(i)\n",
    "else:\n",
    "    print(\"only if there is no break\")"
   ]
  },
  {
   "cell_type": "markdown",
   "metadata": {},
   "source": [
    "Things to try:\n",
    "* i>100   and notice the differences\n",
    "\n",
    "The above mentioned for-loop can be compacted in python (not recommmended,as you readability is down the drain):\n"
   ]
  },
  {
   "cell_type": "code",
   "execution_count": null,
   "metadata": {
    "collapsed": false
   },
   "outputs": [],
   "source": [
    "for i in [1,3,-1,10,100,0]:\n",
    "    if i<0:  continue\n",
    "    if i>10: print(\"break\"); break\n",
    "    if i<3:  pass; print(\"pass\")\n",
    "    print(i)\n",
    "else:\n",
    "    print(\"only if there is no break\")"
   ]
  },
  {
   "cell_type": "markdown",
   "metadata": {},
   "source": [
    "## while-loop"
   ]
  },
  {
   "cell_type": "code",
   "execution_count": null,
   "metadata": {
    "collapsed": false
   },
   "outputs": [],
   "source": [
    "a = 0\n",
    "sum = 0\n",
    "while a<10:\n",
    "    a += 1\n",
    "    sum += a\n",
    "    print(a,sum)\n",
    "    if sum>100:\n",
    "        break\n",
    "else:\n",
    "    print(\"final sum\",sum)"
   ]
  },
  {
   "cell_type": "markdown",
   "metadata": {
    "collapsed": true
   },
   "source": [
    "Things to try:\n",
    "* sum>10"
   ]
  },
  {
   "cell_type": "markdown",
   "metadata": {
    "collapsed": true
   },
   "source": [
    "## functions\n",
    "\n",
    "Functions are the classic analog of functions in languages like Fortran and C.  python of course is object oriented, and so it has a ```class``` as well.\n"
   ]
  },
  {
   "cell_type": "code",
   "execution_count": null,
   "metadata": {
    "collapsed": false
   },
   "outputs": [],
   "source": [
    "def mysqrt(x):\n",
    "    import math\n",
    "    if x < 0:\n",
    "        return -math.sqrt(-x)\n",
    "    else:\n",
    "        return math.sqrt(x)\n",
    "    \n",
    "for x in [-4.0,0.0,4.0]:\n",
    "    print(mysqrt(x))\n",
    "    \n",
    "print(x)"
   ]
  },
  {
   "cell_type": "code",
   "execution_count": null,
   "metadata": {
    "collapsed": false
   },
   "outputs": [],
   "source": [
    "dir(mysqrt)"
   ]
  },
  {
   "cell_type": "markdown",
   "metadata": {},
   "source": [
    "Functions can have default arguments:\n"
   ]
  },
  {
   "cell_type": "code",
   "execution_count": null,
   "metadata": {
    "collapsed": false
   },
   "outputs": [],
   "source": [
    "def mysqrt(x,verbose=False,classic=False):\n",
    "    import math\n",
    "    if classic:\n",
    "        if verbose: print(\"classic\",x)\n",
    "        return math.sqrt(x)\n",
    "    if x < 0:\n",
    "        if verbose: print(\"fixing\",x)\n",
    "        return -math.sqrt(-x)\n",
    "    else:\n",
    "        if verbose: print(\"correct\",x)\n",
    "        return math.sqrt(x)\n",
    "\n",
    "print(mysqrt(-4.0))\n",
    "print(mysqrt(-2.0,True))\n",
    "print(mysqrt(-2.0,classic=True))"
   ]
  },
  {
   "cell_type": "markdown",
   "metadata": {},
   "source": [
    "Scope of variables:  as in other languages, objects inside a function are not visible outside and vice versa, but again, perhaps with a tiny twist"
   ]
  },
  {
   "cell_type": "code",
   "execution_count": null,
   "metadata": {
    "collapsed": false
   },
   "outputs": [],
   "source": [
    "a1 = 1.0\n",
    "def testa(x):\n",
    "    global a1\n",
    "    print(a1+x)\n",
    "    a1 = a1 + x\n",
    "    # y = a1 - x\n",
    "testa(2.0)\n",
    "# print(y)"
   ]
  },
  {
   "cell_type": "code",
   "execution_count": null,
   "metadata": {
    "collapsed": false
   },
   "outputs": [],
   "source": [
    "import math\n",
    "print(math.pi)\n",
    "\n",
    "def mypi(x):\n",
    "    # this will overwrite \\pi !!!\n",
    "    math.pi = x\n",
    "    return {x,x}\n",
    "a=mypi(3)\n",
    "print(math.pi)\n",
    "print(x)\n",
    "print('a',a)\n",
    "#print(\"a=%g\"  % a)\n",
    "print(type(a))\n",
    "print(type(mypi))"
   ]
  }
 ],
 "metadata": {
  "anaconda-cloud": {},
  "kernelspec": {
   "display_name": "Python [default]",
   "language": "python",
   "name": "python3"
  },
  "language_info": {
   "codemirror_mode": {
    "name": "ipython",
    "version": 3
   },
   "file_extension": ".py",
   "mimetype": "text/x-python",
   "name": "python",
   "nbconvert_exporter": "python",
   "pygments_lexer": "ipython3",
   "version": "3.5.2"
  }
 },
 "nbformat": 4,
 "nbformat_minor": 1
}
