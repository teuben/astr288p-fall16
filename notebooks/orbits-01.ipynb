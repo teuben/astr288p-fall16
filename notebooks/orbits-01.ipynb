{
 "cells": [
  {
   "cell_type": "markdown",
   "metadata": {},
   "source": [
    "#  Two Dimensional Galactic Orbits\n",
    "\n",
    "* set initial conditions (x0,y0) and (vx0,vy0) in the plane z=0\n",
    "* set integration time step\n",
    "* set number of integrations or a final integratop stop time\n",
    "* define the potential and derive the forces"
   ]
  },
  {
   "cell_type": "code",
   "execution_count": null,
   "metadata": {
    "collapsed": false
   },
   "outputs": [],
   "source": [
    "%matplotlib inline\n",
    "import matplotlib.pyplot as plt\n",
    "\n",
    "import numpy as np\n",
    "import math"
   ]
  },
  {
   "cell_type": "markdown",
   "metadata": {},
   "source": [
    "The Plummer potential for mass $M$ and core radius $r_c$ is given by\n",
    "$$\n",
    "\\Phi = -  {  M  \\over {   {(r_c^2 + r^2)}^{1/2} }  }    \\tag{1a}\n",
    "$$\n",
    "and is also used to described softened gravity of a point mass (think of the case $r_c = 0$) for N-body calculations.\n",
    "\n",
    "\n",
    "The force is the gradient of the potential\n",
    "$$\n",
    "f = -\\nabla \\Phi                   \\tag{1b}\n",
    "$$\n",
    "\n",
    "We also want to record the total energy (kinetic and potential):\n",
    "$$\n",
    "E = { 1\\over 2} v^2 + \\Phi          \\tag{1c}\n",
    "$$\n",
    "and angular momentum\n",
    "$$\n",
    "J = r \\times v                      \\tag{1d}\n",
    "$$\n",
    "although we will only be using the Z component of this vector since we are computing orbits restricted to the Z plane:\n",
    "$$\n",
    "J_z = x \\times v_y - y \\times v_x         \\tag{1e}\n",
    "$$"
   ]
  },
  {
   "cell_type": "markdown",
   "metadata": {},
   "source": [
    "### force field "
   ]
  },
  {
   "cell_type": "code",
   "execution_count": null,
   "metadata": {
    "collapsed": false
   },
   "outputs": [],
   "source": [
    "def radius(x):\n",
    "    \"\"\"length of a vector\"\"\"\n",
    "    return math.sqrt(np.inner(x,x))\n",
    "\n",
    "def potential(pos):\n",
    "    \"\"\"potential, defined as a negative number\"\"\"\n",
    "    r = radius(pos)\n",
    "    y1 = 1+r*r\n",
    "    return -1.0/math.sqrt(y1)\n",
    "\n",
    "def angmomz(pos,vel):\n",
    "    \"\"\"Angular momentum in Z\"\"\"\n",
    "    return pos[0]*vel[1] - pos[1]*vel[0]\n",
    "\n",
    "def energy(pos,vel):\n",
    "    \"\"\"Kinetic and Potential energy\"\"\"\n",
    "    return 0.5*np.inner(vel,vel) + potential(pos)\n",
    "\n",
    "def force(pos):\n",
    "    \"\"\"force/acceleration (in our units mass=1 scale-length=1)\"\"\"\n",
    "    # note we might be able to use sympy\n",
    "    r = radius(pos)\n",
    "    y2 = 1.0/math.sqrt(1+r*r)\n",
    "    return -pos*y2*y2*y2"
   ]
  },
  {
   "cell_type": "markdown",
   "metadata": {},
   "source": [
    "### Integrator"
   ]
  },
  {
   "cell_type": "code",
   "execution_count": null,
   "metadata": {
    "collapsed": true
   },
   "outputs": [],
   "source": [
    "def step0(pos,vel, dt):\n",
    "    \"\"\"step0: simple first order Euler\"\"\"\n",
    "    old = pos\n",
    "    pos = pos + dt*vel\n",
    "    vel = vel + dt*force(old)\n",
    "    return (pos,vel)\n",
    "\n",
    "def step1(pos,vel, dt):\n",
    "    \"\"\"step1: simple first order Euler - updating position first\"\"\"\n",
    "    pos = pos + dt*vel\n",
    "    vel = vel + dt*force(pos)\n",
    "    return (pos,vel)\n",
    "\n",
    "def step2(pos,vel, dt):\n",
    "    \"\"\"step2: simple first order Euler - updating velocity first\"\"\"\n",
    "    vel = vel + dt*force(pos)\n",
    "    pos = pos + dt*vel\n",
    "    return (pos,vel)"
   ]
  },
  {
   "cell_type": "markdown",
   "metadata": {},
   "source": [
    "### Helper functions"
   ]
  },
  {
   "cell_type": "code",
   "execution_count": null,
   "metadata": {
    "collapsed": true
   },
   "outputs": [],
   "source": [
    "def show_stats(data):\n",
    "    \"\"\"Show some stats of a numpy array\"\"\"\n",
    "    m = data.mean()\n",
    "    s = data.std()\n",
    "    dmin = data.min()\n",
    "    dmax = data.max()\n",
    "    rmin = (dmin-m)/s\n",
    "    rmax = (dmax-m)/s\n",
    "    print(\"Mean/Std:\",m,s,s/m)\n",
    "    print(\"Min/Max:\",dmin,dmax)\n",
    "    print(\"Rmin/Rmax:\",rmin,rmax)"
   ]
  },
  {
   "cell_type": "markdown",
   "metadata": {},
   "source": [
    "### Initial conditions\n",
    "\n",
    "For 2D orbits we only specify the X coordinate and Y velocity. The remaining values of the 6 phase space coordinates are 0. Why is this?\n"
   ]
  },
  {
   "cell_type": "code",
   "execution_count": null,
   "metadata": {
    "collapsed": false
   },
   "outputs": [],
   "source": [
    "x0 = 1.0                       # initial X coordinate\n",
    "v0 =  0.5946                # initial Y launch velocity\n",
    "n  = 2000                    # number of steps to take\n",
    "dt = 0.01                   # integration time step\n",
    "step = step2                   # pick an integration method\n",
    "print(step.__doc__)\n",
    "                                       # Derived variables for the remainder\n",
    "t = 0.0                                # always start at t=0\n",
    "pos = np.array([x0,  0.0, 0.0])        # keeps the current pos\n",
    "vel = np.array([0.0,  v0, 0.0])        # and vel\n",
    "e = energy(pos,vel)                                        \n",
    "j = angmomz(pos,vel)\n",
    "time = np.zeros(1)                     # time array (we'll append to this)\n",
    "time[0] = t\n",
    "phase = np.concatenate(([t,e,j],pos,vel)).reshape(1,9)     # watch this peculiar \n",
    "print(e)"
   ]
  },
  {
   "cell_type": "markdown",
   "metadata": {},
   "source": [
    "### Integrate\n"
   ]
  },
  {
   "cell_type": "code",
   "execution_count": null,
   "metadata": {
    "collapsed": false
   },
   "outputs": [],
   "source": [
    "%%time\n",
    "for i in range(n):\n",
    "    (pos,vel) = step(pos,vel,dt)\n",
    "    t = t + dt\n",
    "    e = energy(pos,vel)\n",
    "    j = angmomz(pos,vel)\n",
    "    #print(i,pos,vel)\n",
    "    p = np.concatenate(([t,e,j],pos,vel)).reshape(1,9)\n",
    "    phase = np.concatenate((phase, p),axis=0)\n",
    "    time = np.append(time,t)\n",
    "#print(phase)"
   ]
  },
  {
   "cell_type": "code",
   "execution_count": null,
   "metadata": {
    "collapsed": false,
    "scrolled": true
   },
   "outputs": [],
   "source": [
    "plt.scatter(phase[:,3],phase[:,4],c=time)\n",
    "plt.axis('equal')\n",
    "plt.title(\"Orbit\")\n",
    "1/math.pow(2.0,0.75)"
   ]
  },
  {
   "cell_type": "code",
   "execution_count": null,
   "metadata": {
    "collapsed": false
   },
   "outputs": [],
   "source": [
    "x = phase[:,3]\n",
    "y = phase[:,4]\n",
    "rad = np.sqrt(x*x+y*y)-1\n",
    "plt.scatter(phase[:,0],rad)\n"
   ]
  },
  {
   "cell_type": "code",
   "execution_count": null,
   "metadata": {
    "collapsed": false
   },
   "outputs": [],
   "source": [
    "plt.scatter(phase[:,0], phase[:,1])\n",
    "plt.title(\"Conserving Energy?\")\n",
    "show_stats(phase[:,1])"
   ]
  },
  {
   "cell_type": "code",
   "execution_count": null,
   "metadata": {
    "collapsed": false
   },
   "outputs": [],
   "source": [
    "plt.scatter(phase[:,0], phase[:,2])\n",
    "plt.title(\"Conserving Angular Momentum?\")\n",
    "show_stats(phase[:,2])"
   ]
  },
  {
   "cell_type": "markdown",
   "metadata": {},
   "source": [
    "### Saving data\n",
    "\n",
    "There are many good and less ideal ways to save data. In astronomy standard formats such has FITS and HDF5 are common.  For our work here we use a simple and fast native python method, called pickle. You can save whole objects, and reading them back in will ensure the whole object structure and hierarchy is preserved. "
   ]
  },
  {
   "cell_type": "code",
   "execution_count": null,
   "metadata": {
    "collapsed": false
   },
   "outputs": [],
   "source": [
    "try:\n",
    "    import cPickle as pickle\n",
    "    print(\"using cPickle\")\n",
    "except:\n",
    "    import pickle\n",
    "    print(\"using pickle\")\n",
    "\n",
    "# write it\n",
    "pickle.dump(phase,open(\"orbit1.p\",\"wb\"))\n",
    "\n",
    "# read it again\n",
    "phase2 = pickle.load(open(\"orbit1.p\",\"rb\"))\n",
    "print(phase[0])\n",
    "print(phase2[0])"
   ]
  },
  {
   "cell_type": "markdown",
   "metadata": {},
   "source": [
    "# Questions\n",
    "\n",
    "* If we are just doing two dimensional orbits, can't we just leave the Z off and speed up computations? What do you need to change to do this?]\n",
    "* How would we look for the period orbit?\n",
    "* If want to squash the potential and make it slightly oval, what would the changes be. Here we would define an ellipsoidal radius on which the potential is constant:\n",
    "$$\n",
    "r^2 = { x^2 \\over a^2} + { y^2 \\over b^2 }\n",
    "$$\n",
    "instead of the normal \n",
    "$$\n",
    "r^2 = x^2 + y^2\n",
    "$$\n",
    "* A 2009 IAS lecture by Tremaine is an excellent lecture for (symplectic) orbit integrators. See https://video.ias.edu/PiTP2009-Tremaine\n"
   ]
  },
  {
   "cell_type": "markdown",
   "metadata": {},
   "source": [
    "### Orbits using scipy\n",
    "\n",
    "For many scientific applications there are canned routines made available by the community.  The **scipy** package is one such module. We will derive the same orbit integration using **scipy.odeint**\n",
    "\n",
    "See e.g. \n",
    "https://docs.scipy.org/doc/scipy-0.18.1/reference/generated/scipy.integrate.odeint.html#scipy.integrate.odeint\n",
    "or better\n",
    "https://docs.scipy.org/doc/scipy-0.18.1/reference/tutorial/integrate.html\n",
    "\n",
    "However, this function uses the usual ODE notation\n",
    "$$\n",
    "{  d\\boldsymbol{y} \\over dt } = f(\\boldsymbol{y},t)   \\tag{2}\n",
    "$$"
   ]
  },
  {
   "cell_type": "code",
   "execution_count": null,
   "metadata": {
    "collapsed": true
   },
   "outputs": [],
   "source": [
    "from scipy.integrate import odeint"
   ]
  },
  {
   "cell_type": "code",
   "execution_count": null,
   "metadata": {
    "collapsed": false
   },
   "outputs": [],
   "source": [
    "def ofunc(y,t):\n",
    "    \"\"\" function to integrate \n",
    "        Note we are re-using the force() function from the first part of this notebook\n",
    "    \"\"\"\n",
    "    pos = y[0:3]\n",
    "    vel = y[3:]\n",
    "    return np.concatenate((vel,force(pos)))"
   ]
  },
  {
   "cell_type": "code",
   "execution_count": null,
   "metadata": {
    "collapsed": false
   },
   "outputs": [],
   "source": [
    "phase0 = np.array([x0,0,0, 0,v0,0])    # initial conditions\n",
    "times  = np.arange(0.0,(n+1)*dt,dt)    # requested times where we want a solution\n",
    "print(ofunc(phase0,0.0))\n"
   ]
  },
  {
   "cell_type": "code",
   "execution_count": null,
   "metadata": {
    "collapsed": false
   },
   "outputs": [],
   "source": [
    "%%time\n",
    "orbit = odeint(ofunc, phase0, times)\n"
   ]
  },
  {
   "cell_type": "code",
   "execution_count": null,
   "metadata": {
    "collapsed": false
   },
   "outputs": [],
   "source": [
    "plt.scatter(orbit[:,0],orbit[:,1],c=time)\n",
    "#plt.scatter(phase[:,3],phase[:,4])\n",
    "plt.title(\"Orbit\")"
   ]
  },
  {
   "cell_type": "code",
   "execution_count": null,
   "metadata": {
    "collapsed": false
   },
   "outputs": [],
   "source": [
    "p1 = phase[-1,3:]\n",
    "p2 = orbit[-1,:]\n",
    "#\n",
    "print(p1)\n",
    "print(p2)\n",
    "print(p1-p2)"
   ]
  },
  {
   "cell_type": "markdown",
   "metadata": {},
   "source": [
    "Clearly our initial design of the \"phase\" structure does not match that of the \"orbit\" very well. How should we improve this, so that we can write tools that use either output of our own code, with the one that comes out of scipy.integrate.odeint?"
   ]
  },
  {
   "cell_type": "code",
   "execution_count": null,
   "metadata": {
    "collapsed": true
   },
   "outputs": [],
   "source": []
  }
 ],
 "metadata": {
  "anaconda-cloud": {},
  "kernelspec": {
   "display_name": "Python [default]",
   "language": "python",
   "name": "python3"
  },
  "language_info": {
   "codemirror_mode": {
    "name": "ipython",
    "version": 3
   },
   "file_extension": ".py",
   "mimetype": "text/x-python",
   "name": "python",
   "nbconvert_exporter": "python",
   "pygments_lexer": "ipython3",
   "version": "3.5.2"
  }
 },
 "nbformat": 4,
 "nbformat_minor": 1
}
