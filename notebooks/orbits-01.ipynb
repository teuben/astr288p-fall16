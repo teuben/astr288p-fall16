{
 "cells": [
  {
   "cell_type": "markdown",
   "metadata": {},
   "source": [
    "#  Two Dimensional Galactic Orbits\n",
    "\n",
    "* set initial conditions (x0,y0) and (vx0,vy0) in the plane z=0\n",
    "* set integration time step\n",
    "* set number of integrations or a final integratop stop time\n",
    "* define the potential and derive the forces"
   ]
  },
  {
   "cell_type": "code",
   "execution_count": null,
   "metadata": {
    "collapsed": false
   },
   "outputs": [],
   "source": [
    "import numpy as np\n",
    "import math\n",
    "%matplotlib inline\n",
    "import matplotlib.pyplot as plt"
   ]
  },
  {
   "cell_type": "markdown",
   "metadata": {},
   "source": [
    "The Plummer potential for mass $M$ and core radius $r_c$ is given by\n",
    "$$\n",
    "\\Phi = -  {  M  \\over {   {(r_c^2 + r^2)}^{1/2} }  }\n",
    "$$\n",
    "and is also used to described softened gravity of a point mass (think of the case $r_c = 0$).\n",
    "\n",
    "\n",
    "The force is the gradient of the potential\n",
    "$$\n",
    "f = -\\nabla \\Phi\n",
    "$$\n",
    "\n",
    "We also want to record the total energy (kinetic and potential):\n",
    "$$\n",
    "E = { 1\\over 2} v^2 + \\Phi\n",
    "$$\n",
    "and angular momentum\n",
    "$$\n",
    "J = r \\times v\n",
    "$$"
   ]
  },
  {
   "cell_type": "markdown",
   "metadata": {},
   "source": [
    "### force field "
   ]
  },
  {
   "cell_type": "code",
   "execution_count": null,
   "metadata": {
    "collapsed": true
   },
   "outputs": [],
   "source": [
    "def radius(x):\n",
    "    return math.sqrt(np.inner(x,x))\n",
    "\n",
    "def potential(pos):\n",
    "    r = radius(pos)\n",
    "    y1 = 1+r*r\n",
    "    return -1.0/math.sqrt(y1)\n",
    "\n",
    "def angmomz(pos,vel):\n",
    "    return pos[0]*vel[1] - pos[1]*vel[0]\n",
    "\n",
    "def energy(pos,vel):\n",
    "    return 0.5*np.inner(vel,vel) + potential(pos)\n",
    "\n",
    "def force(pos):\n",
    "    r = radius(pos)\n",
    "    y2 = 1.0/math.sqrt(1+r*r)\n",
    "    return -pos*y2*y2*y2"
   ]
  },
  {
   "cell_type": "markdown",
   "metadata": {},
   "source": [
    "### Euler integrator"
   ]
  },
  {
   "cell_type": "code",
   "execution_count": null,
   "metadata": {
    "collapsed": true
   },
   "outputs": [],
   "source": [
    "def step(pos,vel, dt):\n",
    "    pos = pos + dt*vel\n",
    "    vel = vel + dt*force(pos)\n",
    "    return (pos,vel)\n",
    "\n",
    "def step(pos,vel, dt):\n",
    "    vel = vel + dt*force(pos)\n",
    "    pos = pos + dt*vel\n",
    "    return (pos,vel)\n"
   ]
  },
  {
   "cell_type": "markdown",
   "metadata": {},
   "source": [
    "### Helpher functions"
   ]
  },
  {
   "cell_type": "code",
   "execution_count": null,
   "metadata": {
    "collapsed": true
   },
   "outputs": [],
   "source": [
    "def show_stats(data):\n",
    "    m = data.mean()\n",
    "    s = data.std()\n",
    "    dmin = data.min()\n",
    "    dmax = data.max()\n",
    "    rmin = (dmin-m)/s\n",
    "    rmax = (dmax-m)/s\n",
    "    print(\"Mean/Std:\",m,s,s/m)\n",
    "    print(\"Min/Max:\",dmin,dmax)\n",
    "    print(\"Rmin/Rmax:\",rmin,rmax)"
   ]
  },
  {
   "cell_type": "markdown",
   "metadata": {},
   "source": [
    "### Initial conditions\n",
    "\n",
    "For 2D orbits we only specify the X coordinate and Y velocity. The remaining values of the 6 phase space coordinates are 0. Why is this?\n"
   ]
  },
  {
   "cell_type": "code",
   "execution_count": null,
   "metadata": {
    "collapsed": false
   },
   "outputs": [],
   "source": [
    "x0 = 1.0\n",
    "v0 = 0.1\n",
    "n = 200\n",
    "dt = 0.1\n",
    "\n",
    "#\n",
    "t = 0.0\n",
    "pos = np.array([x0,  0.0, 0.0])\n",
    "vel = np.array([0.0,  v0, 0.0])\n",
    "time = np.zeros(1)\n",
    "e = energy(pos,vel)\n",
    "j = angmomz(pos,vel)\n",
    "phase = np.concatenate(([t,e,j],pos,vel)).reshape(1,9)"
   ]
  },
  {
   "cell_type": "markdown",
   "metadata": {},
   "source": [
    "### Integrate\n"
   ]
  },
  {
   "cell_type": "code",
   "execution_count": null,
   "metadata": {
    "collapsed": false
   },
   "outputs": [],
   "source": [
    "%%time\n",
    "for i in range(n):\n",
    "    (pos,vel) = step(pos,vel,dt)\n",
    "    t = t + dt\n",
    "    e = energy(pos,vel)\n",
    "    j = angmomz(pos,vel)\n",
    "    #print(i,pos,vel)\n",
    "    p = np.concatenate(([t,e,j],pos,vel)).reshape(1,9)\n",
    "    phase = np.concatenate((phase, p),axis=0)\n",
    "    time = np.append(time,t)\n",
    "#print(phase)"
   ]
  },
  {
   "cell_type": "code",
   "execution_count": null,
   "metadata": {
    "collapsed": false,
    "scrolled": true
   },
   "outputs": [],
   "source": [
    "plt.scatter(phase[:,3],phase[:,4],c=time)\n",
    "plt.title(\"Orbit\")"
   ]
  },
  {
   "cell_type": "code",
   "execution_count": null,
   "metadata": {
    "collapsed": false
   },
   "outputs": [],
   "source": [
    "plt.scatter(phase[:,0], phase[:,1])\n",
    "plt.title(\"Conserving Energy?\")\n",
    "show_stats(phase[:,1])"
   ]
  },
  {
   "cell_type": "code",
   "execution_count": null,
   "metadata": {
    "collapsed": false
   },
   "outputs": [],
   "source": [
    "plt.scatter(phase[:,0], phase[:,2])\n",
    "plt.title(\"Conserving Angular Momentum?\")\n",
    "show_stats(phase[:,2])"
   ]
  },
  {
   "cell_type": "markdown",
   "metadata": {},
   "source": [
    "### Saving data\n",
    "\n",
    "There are many good and less ideal ways to save data. In astronomy standard formats such has FITS and HDF5 are common.  For our work here we use a simple and fast native python method, called pickle. You can save whole objects, and reading them back in will ensure the whole object structure and hierarchy is preserved. "
   ]
  },
  {
   "cell_type": "code",
   "execution_count": null,
   "metadata": {
    "collapsed": false
   },
   "outputs": [],
   "source": [
    "try:\n",
    "    import cPickle as pickle\n",
    "    print(\"using cPickle\")\n",
    "except:\n",
    "    import pickle\n",
    "    print(\"using pickle\")\n",
    "\n",
    "pdata = pickle.dumps(phase)\n",
    "#\n",
    "phase2 = pickle.loads(pdata)\n",
    "\n",
    "print(phase[0])\n",
    "print(phase2[0])\n",
    "\n",
    "# now write to, and read from, a file on disk"
   ]
  },
  {
   "cell_type": "markdown",
   "metadata": {},
   "source": [
    "# Questions\n",
    "\n",
    "* If we are just doing two dimensional orbits, can't we just leave the Z off and speed up computations? What do you need to change to do this?\n",
    "* If want to squash the potential and make it slightly oval, what would the changes be. Here we would define an ellipsoidal radius on which the potential is constant:\n",
    "$$\n",
    "r^2 = { x^2 \\over a^2} + { y^2 \\over b^2 }\n",
    "$$\n",
    "instead of the normal \n",
    "$$\n",
    "r^2 = x^2 + y^2\n",
    "$$\n",
    "* A 2009 IAS lecture by Tremaine is an excellent lecture for (symplectic) orbit integrators"
   ]
  },
  {
   "cell_type": "markdown",
   "metadata": {},
   "source": [
    "### Orbits using scipy\n",
    "\n",
    "For many scientific applications there are canned routines made available by the community.  The **scipy** package is one such module. We will derive the same orbit integration using **scipy.odeint**"
   ]
  },
  {
   "cell_type": "code",
   "execution_count": null,
   "metadata": {
    "collapsed": true
   },
   "outputs": [],
   "source": [
    "from scipy.integrate import odeint\n",
    "\n"
   ]
  },
  {
   "cell_type": "code",
   "execution_count": null,
   "metadata": {
    "collapsed": false
   },
   "outputs": [],
   "source": [
    "def ofunc(y,t):\n",
    "    pos = y[0:3]\n",
    "    vel = y[3:]\n",
    "    return np.concatenate((vel,force(pos)))\n",
    "  \n"
   ]
  },
  {
   "cell_type": "code",
   "execution_count": null,
   "metadata": {
    "collapsed": false
   },
   "outputs": [],
   "source": [
    "phase0 = np.array([x0,0,0, 0,v0,0])\n",
    "times  = np.arange(0.0,(n+1)*dt,dt)\n",
    "print(ofunc(phase0,0.0))"
   ]
  },
  {
   "cell_type": "code",
   "execution_count": null,
   "metadata": {
    "collapsed": false
   },
   "outputs": [],
   "source": [
    "%%time\n",
    "orbit = odeint(ofunc, phase0, times)\n"
   ]
  },
  {
   "cell_type": "code",
   "execution_count": null,
   "metadata": {
    "collapsed": false
   },
   "outputs": [],
   "source": []
  },
  {
   "cell_type": "code",
   "execution_count": null,
   "metadata": {
    "collapsed": false
   },
   "outputs": [],
   "source": [
    "plt.scatter(orbit[:,0],orbit[:,1],c=time)\n",
    "#plt.scatter(phase[:,3],phase[:,4])\n",
    "plt.title(\"Orbit\")"
   ]
  },
  {
   "cell_type": "code",
   "execution_count": null,
   "metadata": {
    "collapsed": false
   },
   "outputs": [],
   "source": [
    "p1 = phase[-1,3:]\n",
    "p2 = orbit[-1,:]\n",
    "#\n",
    "print(p1)\n",
    "print(p2)\n",
    "print(p1-p2)"
   ]
  },
  {
   "cell_type": "code",
   "execution_count": null,
   "metadata": {
    "collapsed": true
   },
   "outputs": [],
   "source": []
  },
  {
   "cell_type": "code",
   "execution_count": null,
   "metadata": {
    "collapsed": true
   },
   "outputs": [],
   "source": []
  },
  {
   "cell_type": "code",
   "execution_count": null,
   "metadata": {
    "collapsed": true
   },
   "outputs": [],
   "source": []
  },
  {
   "cell_type": "code",
   "execution_count": null,
   "metadata": {
    "collapsed": true
   },
   "outputs": [],
   "source": []
  }
 ],
 "metadata": {
  "anaconda-cloud": {},
  "kernelspec": {
   "display_name": "Python [default]",
   "language": "python",
   "name": "python3"
  },
  "language_info": {
   "codemirror_mode": {
    "name": "ipython",
    "version": 3
   },
   "file_extension": ".py",
   "mimetype": "text/x-python",
   "name": "python",
   "nbconvert_exporter": "python",
   "pygments_lexer": "ipython3",
   "version": "3.5.2"
  }
 },
 "nbformat": 4,
 "nbformat_minor": 1
}
