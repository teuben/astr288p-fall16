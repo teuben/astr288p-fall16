{
 "cells": [
  {
   "cell_type": "markdown",
   "metadata": {},
   "source": [
    "# Notebooks\n",
    "\n",
    "What you are reading here is a cell in a notebook. A notebook can have many cells. This is a text (really: markdown) cell. It can display text, math, include figures etc. The next cell will contain some python code. But first, $c^2 = a^2 + b^2$ and also\n",
    "$$\n",
    "{{G M(r)} \\over {r^2} } = { v^2 \\over r}\n",
    "$$\n",
    "which should look familiar to most of you. We will come back to this."
   ]
  },
  {
   "cell_type": "code",
   "execution_count": null,
   "metadata": {
    "collapsed": false
   },
   "outputs": [],
   "source": [
    "a = 1.0\n",
    "b = 2\n",
    "c = \"3\"\n",
    "#  let's pause and remember python has dynamic types.\n",
    "#  float, integer and string are determined automatically from the way we enter it\n",
    "print(a,b,c)"
   ]
  },
  {
   "cell_type": "markdown",
   "metadata": {},
   "source": [
    "In order to execute this python code, click on the cell to activate it, then using the SHIFT-ENTER key"
   ]
  },
  {
   "cell_type": "code",
   "execution_count": null,
   "metadata": {
    "collapsed": false
   },
   "outputs": [],
   "source": [
    "#  another way of output\n",
    "print(\"a=\",a,\"b=\",b,\"c=\",c)"
   ]
  },
  {
   "cell_type": "code",
   "execution_count": null,
   "metadata": {
    "collapsed": false
   },
   "outputs": [],
   "source": [
    "# yet another way of output\n",
    "print(\"a=%g  b=%d  c=%s\" % (a,b,c))"
   ]
  },
  {
   "cell_type": "code",
   "execution_count": null,
   "metadata": {
    "collapsed": false
   },
   "outputs": [],
   "source": [
    "# and yet another way of output\n",
    "print(\"a=%s  b=%s  c=%s\" % (str(a),str(b),str(c)))"
   ]
  },
  {
   "cell_type": "code",
   "execution_count": null,
   "metadata": {
    "collapsed": false
   },
   "outputs": [],
   "source": [
    "# find out the types of variables\n",
    "print(type(a),type(b),type(c))"
   ]
  }
 ],
 "metadata": {
  "kernelspec": {
   "display_name": "Python [default]",
   "language": "python",
   "name": "python3"
  },
  "language_info": {
   "codemirror_mode": {
    "name": "ipython",
    "version": 3
   },
   "file_extension": ".py",
   "mimetype": "text/x-python",
   "name": "python",
   "nbconvert_exporter": "python",
   "pygments_lexer": "ipython3",
   "version": "3.5.2"
  }
 },
 "nbformat": 4,
 "nbformat_minor": 1
}
