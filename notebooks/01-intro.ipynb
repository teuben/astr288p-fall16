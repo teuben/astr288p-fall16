{
 "cells": [
  {
   "cell_type": "markdown",
   "metadata": {},
   "source": [
    "# Python Intro\n",
    "\n",
    "## Notebooks\n",
    "\n",
    "What you are reading here is text in a cell in a notebook. A notebook can have many cells. This is a text (really: markdown) cell. It can display text, math, include figures etc. The next cell will contain some python code that you can execute in the browser. You can see this from the ** In [ ]:** prompt.\n",
    "\n",
    "But before that, let's show off with some math, $c^2 = a^2 + b^2$ and also\n",
    "$$\n",
    "{{G M(r)} \\over {r^2} } = { v^2 \\over r}\n",
    "$$\n",
    "which should look familiar to most of you. We will come back to this."
   ]
  },
  {
   "cell_type": "markdown",
   "metadata": {},
   "source": [
    "## python variables"
   ]
  },
  {
   "cell_type": "code",
   "execution_count": null,
   "metadata": {
    "collapsed": false
   },
   "outputs": [],
   "source": [
    "a = 1.0\n",
    "b = 2\n",
    "c = \"3\"\n",
    "#  let's pause and remember python has dynamic types.\n",
    "#  float, integer and string are determined automatically from the way we enter it\n",
    "print(a,b,c)"
   ]
  },
  {
   "cell_type": "markdown",
   "metadata": {},
   "source": [
    "In order to execute this python code, click on the cell to activate it, then using the SHIFT-ENTER key. Note that as soon as the cell has executed, the **In[]** (a python list) has obtained a sequence number. More on those later."
   ]
  },
  {
   "cell_type": "code",
   "execution_count": null,
   "metadata": {
    "collapsed": false
   },
   "outputs": [],
   "source": [
    "#  another way of output\n",
    "print(\"a=\",a,\"b=\",b,\"c=\",c)"
   ]
  },
  {
   "cell_type": "code",
   "execution_count": null,
   "metadata": {
    "collapsed": false
   },
   "outputs": [],
   "source": [
    "# yet another way of output\n",
    "print(\"a=%g  b=%d  c=%s\" % (a,b,c))"
   ]
  },
  {
   "cell_type": "code",
   "execution_count": null,
   "metadata": {
    "collapsed": false
   },
   "outputs": [],
   "source": [
    "# and yet another way of output\n",
    "print(\"a=%s  b=%s  c=%s\" % (str(a),str(b),str(c)))"
   ]
  },
  {
   "cell_type": "code",
   "execution_count": null,
   "metadata": {
    "collapsed": false
   },
   "outputs": [],
   "source": [
    "# find out the types of variables\n",
    "print(type(a),type(b),type(c))"
   ]
  },
  {
   "cell_type": "markdown",
   "metadata": {},
   "source": [
    "# 1st leave heading:  Markdown formatting\n",
    "\n",
    "\n",
    "Making a bullet list\n",
    "\n",
    "* a list\n",
    "* uses stars\n",
    "* for bullets\n",
    "\n",
    "## 2nd level heading\n",
    "\n",
    "Or an enumerated list, but it looks weird in raw format. Double click on this cell!\n",
    "\n",
    "1. first\n",
    "1. second\n",
    "1. third\n",
    "\n",
    "### 3rd level heading\n",
    "And [this link](http://www.astro.umd.edu/~teuben/ASTR288P/) is created with `[...](...)`, where you should note the use of the back-ticks.\n"
   ]
  },
  {
   "cell_type": "markdown",
   "metadata": {},
   "source": [
    "# A little more on python data structures\n",
    "\n",
    "Next to dynamic typing, one of the powers of python are a number of built-in data structures (lists, dictionaries, tuples and sets) that together with their built-in operators make for a very flexible scripting language.  Here is a quick summary how you would initialize them in python:\n",
    "\n",
    "| data type |   assignment example  |   len(a)   |\n",
    "| --------- | --------------------- | ---------- |\n",
    "| list        | a = [1,2,3] |  3  |\n",
    "| tuple      | a = (1,2,3)|  3  |\n",
    "| dictionary  |   a = {'1':1 ,'2':2 , '3':3}|  3  |\n",
    "| set        |  a = {1,2,3,2,1}|  3 |"
   ]
  },
  {
   "cell_type": "markdown",
   "metadata": {},
   "source": [
    "## python list\n"
   ]
  },
  {
   "cell_type": "code",
   "execution_count": null,
   "metadata": {
    "collapsed": false
   },
   "outputs": [],
   "source": [
    "# we saw the assignment:\n",
    "a = [1,2,3]\n",
    "print(len(a))\n",
    "\n",
    "# a zero list is ok too\n",
    "a = []\n",
    "print(len(a))\n",
    "\n",
    "# but if you need a lot more, typing becomes tedious, python has a shortcut\n",
    "a = list(range(10,100,5))\n",
    "print(a)\n",
    "\n",
    "# notice something odd with the last number?"
   ]
  },
  {
   "cell_type": "code",
   "execution_count": null,
   "metadata": {
    "collapsed": false
   },
   "outputs": [],
   "source": [
    "# slicing and copying\n",
    "b=a[3:6]\n",
    "b[0]=0\n",
    "print(b)\n",
    "print(a)"
   ]
  },
  {
   "cell_type": "code",
   "execution_count": null,
   "metadata": {
    "collapsed": false
   },
   "outputs": [],
   "source": [
    "a.reverse()\n",
    "print(a)"
   ]
  },
  {
   "cell_type": "markdown",
   "metadata": {},
   "source": [
    "Two short notes on python lists:\n",
    "* The data types inside of a list don't have to be all the same.\n",
    "```\n",
    "    a = [1.0, 2, \"3\", [1.0, 2, \"3\"], range(10,20,2)]\n",
    "```\n",
    "\n",
    "\n",
    "* Each python object can have a number of member function. In a notebook you can find out about these:\n",
    "  * **google**, stackoverflow, e.g. the online manuals https://docs.python.org/2/tutorial/datastructures.html#more-on-lists\n",
    "\n",
    "  * the inline **```dir()```** method in python\n",
    "  ```\n",
    "  dir(a)\n",
    "  ```\n",
    "  not very informative, but it does remind you of the names\n",
    "  * python **introspection**\n",
    "  ```\n",
    "  import inspect\n",
    "  inspect.getmembers(a)\n",
    "  ```\n",
    "  * Use the ipython or notebook **TAB completion**:  For our object ```a``` typing ```a.<TAB>``` should show a list of possible completions, move your cursor to the desired one"
   ]
  },
  {
   "cell_type": "code",
   "execution_count": null,
   "metadata": {
    "collapsed": false
   },
   "outputs": [],
   "source": [
    "a = [1,2,3]\n",
    "if True:\n",
    "    print(\"assigning a slice\")\n",
    "    b=a[:]\n",
    "else:\n",
    "    print(\"simple assignment\")\n",
    "    b=a\n",
    "b[0] = 0\n",
    "print(\"a=\",a)\n",
    "print(\"b=\",b)"
   ]
  },
  {
   "cell_type": "markdown",
   "metadata": {},
   "source": [
    "Notice in this \"```if True/else```\" statement, that indentation is used in python to control the flow. Look at the following C code, which does not  do what indentation may indicate:\n",
    "```\n",
    "   if (condition1)\n",
    "       if (condition2)\n",
    "           printf(\"1 and 2\");\n",
    "   else\n",
    "       printf(\"when oh when will I print?\");\n",
    "```\n",
    "\n",
    "---\n",
    "More in https://swcarpentry.github.io/python-second-language/01-basics/"
   ]
  },
  {
   "cell_type": "code",
   "execution_count": null,
   "metadata": {
    "collapsed": true
   },
   "outputs": [],
   "source": []
  }
 ],
 "metadata": {
  "anaconda-cloud": {},
  "kernelspec": {
   "display_name": "Python [default]",
   "language": "python",
   "name": "python3"
  },
  "language_info": {
   "codemirror_mode": {
    "name": "ipython",
    "version": 3
   },
   "file_extension": ".py",
   "mimetype": "text/x-python",
   "name": "python",
   "nbconvert_exporter": "python",
   "pygments_lexer": "ipython3",
   "version": "3.5.2"
  }
 },
 "nbformat": 4,
 "nbformat_minor": 1
}
