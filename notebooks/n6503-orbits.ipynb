{
 "cells": [
  {
   "cell_type": "markdown",
   "metadata": {},
   "source": [
    "# Gas Streaming in Disks: orbit approach\n",
    "\n",
    "The gas streaming around a young star, or in a galactic disk is dominated by gravity. So we can simply compute the orbits of a point mass around a star, or in the more complex potential of a galactic disk. Although there is a wonderful package in python  for this, [galpy](https://github.com/jobovy/galpy), we will first try and use this from scratch in simple pure python. Another approach is the [NEMO](http://www.astro.umd.edu/nemo/) package, which is a collection of Unix programs."
   ]
  },
  {
   "cell_type": "code",
   "execution_count": null,
   "metadata": {
    "collapsed": false
   },
   "outputs": [],
   "source": [
    "%matplotlib inline\n",
    "import matplotlib.pyplot as plt"
   ]
  },
  {
   "cell_type": "code",
   "execution_count": null,
   "metadata": {
    "collapsed": false
   },
   "outputs": [],
   "source": [
    "# python 2-3 compatibility\n",
    "from __future__ import print_function"
   ]
  },
  {
   "cell_type": "code",
   "execution_count": null,
   "metadata": {
    "collapsed": false
   },
   "outputs": [],
   "source": [
    "import numpy as np\n",
    "import math"
   ]
  },
  {
   "cell_type": "markdown",
   "metadata": {},
   "source": [
    "# Initialize the data\n"
   ]
  },
  {
   "cell_type": "markdown",
   "metadata": {},
   "source": [
    "First we need to define a function that tells us the speed of the gas at a given distance from the center of the star or galaxy. We consider only three simple cases here, always based on\n",
    "$$\n",
    "      { v^2 \\over r } = {{ G. M(<r) } \\over r^2}\n",
    "$$\n",
    "or\n",
    "$$\n",
    "          v  = \\sqrt{  {G. M(<r) }  \\over r}\n",
    "$$"
   ]
  },
  {
   "cell_type": "code",
   "execution_count": null,
   "metadata": {
    "collapsed": false
   },
   "outputs": [],
   "source": [
    "def velocity(radius, model='galaxy'):\n",
    "    \"\"\"describe the streaming velocity as function of radius in or around an object\n",
    "    such as a star or a galaxy.  We always define the velocity to be 1 at a radius of 1.\n",
    "    \"\"\"\n",
    "    if model == 'star':\n",
    "        # A star has a keplerian rotation curve. The planets around our sun obey this law.\n",
    "        if radius == 0.0:\n",
    "            return 0.0\n",
    "        else:\n",
    "            return 1.0/math.sqrt(radius)\n",
    "    elif model == 'galaxy':\n",
    "        # Most disk galaxies have a flat rotation curve with a linear slope in the center.\n",
    "        if radius > 1.0:\n",
    "            # flat rotation curve outside radius 1.0\n",
    "            return 1.0\n",
    "        else:\n",
    "            # solid body inside radius 1.0, linearly rising rotation curve\n",
    "            return radius\n",
    "    elif model == 'plummer':\n",
    "        # A plummer sphere was an early 1900s description of clusters, and is also not\n",
    "        # a bad description for the inner portions of a galaxy. You can also view it\n",
    "        # as a hybrid and softened version of the 'star' and 'galaxy' described above.\n",
    "        # Note: not quite 1 at 1 yet\n",
    "        return  radius / (1+radius*radius)**0.75\n",
    "    else:\n",
    "        return 0.0\n",
    "        "
   ]
  },
  {
   "cell_type": "code",
   "execution_count": null,
   "metadata": {
    "collapsed": false
   },
   "outputs": [],
   "source": [
    "model = 'star'\n",
    "model = 'galaxy'\n",
    "model = 'plummer'\n",
    "rad = np.arange(0.0,4.0,0.05)\n",
    "vel = rad * 0.0\n",
    "vel = np.zeros(len(rad))\n",
    "for i in range(len(rad)):\n",
    "    vel[i] = velocity(rad[i],model)\n",
    "print(vel.max(),vel[-1])"
   ]
  },
  {
   "cell_type": "markdown",
   "metadata": {},
   "source": [
    "## Plotting the Rotation Curve"
   ]
  },
  {
   "cell_type": "code",
   "execution_count": null,
   "metadata": {
    "collapsed": false
   },
   "outputs": [],
   "source": [
    "plt.plot(rad,vel)\n",
    "plt.xlabel(\"Radius\")\n",
    "plt.ylabel(\"Velocity\")"
   ]
  },
  {
   "cell_type": "markdown",
   "metadata": {},
   "source": [
    "This curve of velocity as function of radius is called a **Rotation Curve**, and extracting such a curve from an observation is crucial to understanding the mass distribution within a galaxy, or the mass of the young star at the center of the disk. We are assuming the gas is on circular orbits, which turns out is not always correct. For this experiment we will keep that assumption."
   ]
  },
  {
   "cell_type": "code",
   "execution_count": null,
   "metadata": {
    "collapsed": false
   },
   "outputs": [],
   "source": [
    "# set the inclination of the disk with the line of sigh (0 means face-on, 90 means edge-on)\n",
    "inc = 60\n",
    "cosi = math.cos(inc*math.pi/180.0)\n",
    "sini = math.sin(inc*math.pi/180.0)\n",
    "#  radius of the disk, and steps in radius\n",
    "r0 = 4.0\n",
    "dr = 0.1"
   ]
  },
  {
   "cell_type": "markdown",
   "metadata": {},
   "source": [
    "## Forward projection\n",
    "\n",
    "This is the most simple generic method. You describe the model, project it and simply compute the observables (the observed position **x** and **y**, and the radial velocity **v**). You then need to grid these observed points on a sky grid.\n"
   ]
  },
  {
   "cell_type": "code",
   "execution_count": null,
   "metadata": {
    "collapsed": false
   },
   "outputs": [],
   "source": [
    "# get random points along a regular series of circles, which describes the model\n",
    "# we assume the gas is streaming along those circles\n",
    "radii = np.arange(0.0,r0,dr)\n",
    "xobs = np.arange(0)\n",
    "yobs = np.arange(0)\n",
    "vobs = np.arange(0)\n",
    "for r in radii:\n",
    "    vrot = velocity(r,model)\n",
    "    phi = np.random.random(45)*2*math.pi\n",
    "    # orbit properties we need\n",
    "    x  = r*np.cos(phi)\n",
    "    y  = r*np.sin(phi)\n",
    "    v  = vrot*np.cos(phi)\n",
    "    # project\n",
    "    xobs  = np.append(xobs,x)\n",
    "    yobs  = np.append(yobs,y*cosi)\n",
    "    vobs  = np.append(vobs,v*sini)"
   ]
  },
  {
   "cell_type": "markdown",
   "metadata": {},
   "source": [
    "Now we have a set of (xobs,yobs,vobs) points that need to be gridded on the sky."
   ]
  },
  {
   "cell_type": "code",
   "execution_count": null,
   "metadata": {
    "collapsed": false
   },
   "outputs": [],
   "source": [
    "plt.scatter(xobs,yobs,c=vobs)\n",
    "plt.colorbar()"
   ]
  },
  {
   "cell_type": "code",
   "execution_count": null,
   "metadata": {
    "collapsed": false
   },
   "outputs": [],
   "source": [
    "plt.scatter(xobs,vobs,c=yobs)\n",
    "plt.colorbar()"
   ]
  },
  {
   "cell_type": "markdown",
   "metadata": {},
   "source": [
    "We now have a function *vobs = f(xobs,yobs)*, but defined on an irregular grid *(xobs,yobs)*. Of the many tools that the **scipy** module has, is an interpolation routine, which allows us to re-interpolate this on a regular grid, so it can be displayed as an image, similar to the velocity field we derived from the observations."
   ]
  },
  {
   "cell_type": "code",
   "execution_count": null,
   "metadata": {
    "collapsed": false
   },
   "outputs": [],
   "source": [
    "import scipy.interpolate"
   ]
  },
  {
   "cell_type": "code",
   "execution_count": null,
   "metadata": {
    "collapsed": false
   },
   "outputs": [],
   "source": [
    "f = scipy.interpolate.interp2d(xobs,yobs,vobs,fill_value=0.0,kind='cubic')\n",
    "xgrid = np.arange(-4.0,4.0,0.1)\n",
    "ygrid = np.arange(-4.0,4.0,0.1)\n",
    "zz = f(xgrid,ygrid)\n",
    "print(zz.shape)\n",
    "print(len(xobs))\n",
    "plt.imshow(zz,origin=['Lower'],vmin=-0.5,vmax=0.5)\n",
    "plt.colorbar()\n",
    "# so ... this is not working yet"
   ]
  },
  {
   "cell_type": "markdown",
   "metadata": {},
   "source": [
    "Perhaps you can already see some flaws in this approach. But it's a more general approach to simulate an observation.  We will now do the reverse operation, since the rotation disk is simple to describe."
   ]
  },
  {
   "cell_type": "markdown",
   "metadata": {},
   "source": [
    "## Backwards Projection\n",
    "\n",
    "This is where we take a point in the sky, and deproject back where in the galaxy this point came from and compute the velocity and projected velocity. The big advantage is the simplicity of computing the observable at each picked point in the sky. The big drawback is that the deprojection may not be trivial in cases where the model is not simple, e.g. non-circular motion and/or non-planar disks.\n"
   ]
  },
  {
   "cell_type": "code",
   "execution_count": null,
   "metadata": {
    "collapsed": false
   },
   "outputs": [],
   "source": [
    "dr = 0.05\n",
    "x = np.arange(-r0,r0,dr)\n",
    "y = np.arange(-r0,r0,dr)\n",
    "xx,yy = np.meshgrid(x,y)\n",
    "rr = np.sqrt(xx*xx+(yy/cosi)**2)\n",
    "if r0/dr < 20:\n",
    "    plt.scatter(xx,yy)\n",
    "else:\n",
    "    print(\"not plotting too many gridpoints/dimension\",r0/dr)"
   ]
  },
  {
   "cell_type": "markdown",
   "metadata": {},
   "source": [
    "Although we have defined a function **velocity** to compute the rotation velocity at any radius, this function cannot easily compute from a numpy array, as we just created on a grid on the sky. Thus we need a convenience function to do just that. "
   ]
  },
  {
   "cell_type": "code",
   "execution_count": null,
   "metadata": {
    "collapsed": false
   },
   "outputs": [],
   "source": [
    "def velocity2d(rad2d, model):\n",
    "    \"\"\" convenience function to take a 2d array of radii\n",
    "        and return the same-shaped velocities\n",
    "    \"\"\"\n",
    "    (ny,nx) = rad2d.shape\n",
    "    vel2d = rad2d.copy()\n",
    "    for y in range(ny):\n",
    "        for x in range(nx):\n",
    "            vel2d[y,x] = velocity(rad2d[y,x],model)\n",
    "    return vel2d"
   ]
  },
  {
   "cell_type": "code",
   "execution_count": null,
   "metadata": {
    "collapsed": false
   },
   "outputs": [],
   "source": [
    "vv = velocity2d(rr,model)\n",
    "vvmasked = np.ma.masked_where(rr>r0,vv)\n",
    "vobs = vvmasked * xx / rr * sini\n",
    "print(\"max v:\",vobs.max())\n"
   ]
  },
  {
   "cell_type": "code",
   "execution_count": null,
   "metadata": {
    "collapsed": false,
    "scrolled": true
   },
   "outputs": [],
   "source": [
    "vmax = 1\n",
    "if vmax > 0:\n",
    "    plt.imshow(vobs,origin=['Lower'],vmin=-vmax, vmax=vmax)\n",
    "else:\n",
    "    plt.imshow(vobs,origin=['Lower'])\n",
    "plt.colorbar()"
   ]
  },
  {
   "cell_type": "markdown",
   "metadata": {},
   "source": [
    "This plot will not look very good if you don't make the step size in radius (**dr**) small enough."
   ]
  },
  {
   "cell_type": "markdown",
   "metadata": {
    "collapsed": true
   },
   "source": [
    "# NEMO\n",
    "\n",
    "In NEMO we are dealing with a collection of Unix programs that create or filter files, for example the following sequence of programs would create an image of a 1000 body realization of a Plummer (1911) sphere:\n",
    "\n",
    "```\n",
    "mkplummer out=p1k nbody=1000\n",
    "snapgrid in=p1k out=p1k.ccd evar=m\n",
    "ccdfits in=p1k.ccd out=p1k.fits\n",
    "ds9 p1k.fits\n",
    "```\n",
    "but this can also be shortened using Unix pipes; the \"-\" designates an input or output to/from a pipe. In this example the keyword names (in=, nbody=, out=) have been left out because NEMO accepts this as long as they are in the pre-defined order (similar to named parameters in python functions):\n",
    "```\n",
    "mkplummer - 10000 | snapgrid - - | ccdfits - s4.fits\n",
    "ds9 s4.fits \n",
    "```\n",
    "To create a similar velocity field as we did using the orbits technique, one could use the following pipe:\n",
    "```\n",
    "mkdisk - 10000 rmax=2 mass=1 | snaprotate - - 60 x | snapgrid - - moment=-1 | ccdfits - v1.fits\n",
    "ds9 v1.fits\n",
    "```"
   ]
  },
  {
   "cell_type": "markdown",
   "metadata": {},
   "source": [
    "To use NEMO on the astronomy cluster, you have to use the csh or tcsh:\n",
    "```\n",
    "   $ tcsh\n",
    "   % source /astromake/astromake_start\n",
    "   % astroload nemo ds9\n",
    "```\n",
    "  \n",
    "   "
   ]
  }
 ],
 "metadata": {
  "anaconda-cloud": {},
  "kernelspec": {
   "display_name": "Python [default]",
   "language": "python",
   "name": "python3"
  },
  "language_info": {
   "codemirror_mode": {
    "name": "ipython",
    "version": 3
   },
   "file_extension": ".py",
   "mimetype": "text/x-python",
   "name": "python",
   "nbconvert_exporter": "python",
   "pygments_lexer": "ipython3",
   "version": "3.5.2"
  }
 },
 "nbformat": 4,
 "nbformat_minor": 0
}
