{
 "cells": [
  {
   "cell_type": "markdown",
   "metadata": {},
   "source": [
    "# Problem 3:\n",
    "\n",
    "Create a python script (or a new notebook) that has a python function that\n",
    "returns a sum as function of N\n",
    "\n",
    "for all number 1 through a positive N (N will be given, but lets say N=10)\n",
    "sum up all even numbers, and subtract all odd numbers.\n",
    "\n",
    "Can you find a fast(er) way to do this in numpy?\n",
    "Make sure you test your code for an even and odd number. This is often\n",
    "where you will find a bug.\n"
   ]
  },
  {
   "cell_type": "code",
   "execution_count": null,
   "metadata": {
    "collapsed": false
   },
   "outputs": [],
   "source": [
    "#  set n for this whole notebook.   \n",
    "#  For n=10000 the longer ones typically take a few ms\n",
    "n=10\n"
   ]
  },
  {
   "cell_type": "code",
   "execution_count": null,
   "metadata": {
    "collapsed": false
   },
   "outputs": [],
   "source": [
    "%%time \n",
    "sum = 0\n",
    "for i in range(n+1):\n",
    "    if i%2:\n",
    "        sum -= i\n",
    "    else:\n",
    "        sum += i\n",
    "print(sum)"
   ]
  },
  {
   "cell_type": "code",
   "execution_count": null,
   "metadata": {
    "collapsed": false
   },
   "outputs": [],
   "source": [
    "%%time\n",
    "sum = 0\n",
    "for i in range(0,n+1,2):\n",
    "    sum += i\n",
    "for i in range(1,n+1,2):\n",
    "    sum -= i\n",
    "print(sum)\n"
   ]
  },
  {
   "cell_type": "code",
   "execution_count": null,
   "metadata": {
    "collapsed": false
   },
   "outputs": [],
   "source": [
    "%%time\n",
    "import numpy as np\n",
    "a = np.arange(n+1)\n",
    "s = a*0 + 1\n",
    "for i in range(1,n+1,2):\n",
    "    s[i] = -1\n",
    "a = a * s\n",
    "print(a.sum())\n"
   ]
  },
  {
   "cell_type": "code",
   "execution_count": null,
   "metadata": {
    "collapsed": false
   },
   "outputs": [],
   "source": [
    "%%time \n",
    "import numpy as np\n",
    "a = np.arange(n+1)\n",
    "s = a*0 + 1\n",
    "s[1:n+1:2] = -1\n",
    "a = a * s\n",
    "print(a.sum())\n"
   ]
  },
  {
   "cell_type": "code",
   "execution_count": null,
   "metadata": {
    "collapsed": false
   },
   "outputs": [],
   "source": [
    "%%time \n",
    "if n%2:\n",
    "    print(-(n+1)//2)\n",
    "else:    \n",
    "    print((n+1)//2)\n"
   ]
  },
  {
   "cell_type": "code",
   "execution_count": null,
   "metadata": {
    "collapsed": false
   },
   "outputs": [],
   "source": [
    "%%time\n",
    "print(int(math.pow(-1,n))*(n+1)//2)"
   ]
  },
  {
   "cell_type": "code",
   "execution_count": null,
   "metadata": {
    "collapsed": false
   },
   "outputs": [],
   "source": [
    "%%time \n",
    "print( -(n+1)//2 if n%2 else (n+1)//2 )"
   ]
  },
  {
   "cell_type": "markdown",
   "metadata": {},
   "source": [
    "It turns out this example is known in mathematics as one of the Riemann Zeta functions, $\\zeta(-1)$. See \n",
    "also https://en.wikipedia.org/wiki/Riemann_zeta_function."
   ]
  }
 ],
 "metadata": {
  "anaconda-cloud": {},
  "kernelspec": {
   "display_name": "Python [default]",
   "language": "python",
   "name": "python3"
  },
  "language_info": {
   "codemirror_mode": {
    "name": "ipython",
    "version": 3
   },
   "file_extension": ".py",
   "mimetype": "text/x-python",
   "name": "python",
   "nbconvert_exporter": "python",
   "pygments_lexer": "ipython3",
   "version": "3.5.2"
  }
 },
 "nbformat": 4,
 "nbformat_minor": 1
}
