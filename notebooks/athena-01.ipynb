{
 "cells": [
  {
   "cell_type": "markdown",
   "metadata": {},
   "source": [
    "# Athena : Grid-based code for astrophysical magnetohydrodynamics (MHD)\n",
    "\n",
    "In this notebook we will discover how to use (and potential extend) a community code called **athena**. You can use the ASCL service to find out more about such a code (although google can sometimes be more effective):\n",
    "http://ascl.net/athena should redirect you to the relevant ASCL entry or entries for that code.\n",
    "\n",
    "In fact, you will discover two groups came up with this name.\n",
    "\n",
    "You will need to use the terminal as well in this notebook.  An in-depth discussion of MHD codes is beyond our current scope, but we have to recall that python is not always the best code to implement codes that need a large number of computations.  An example of a related problem that was solved in a notebook using python, is the heat equation using the Crank-Nickelson method, and is described [here](http://nbviewer.jupyter.org/github/waltherg/notebooks/blob/master/2013-12-03-Crank_Nicolson.ipynb)."
   ]
  },
  {
   "cell_type": "markdown",
   "metadata": {},
   "source": [
    "## 1. downloading\n",
    "\n",
    "Following the code site we will find a link on https://trac.princeton.edu/Athena/wiki/AthenaDocsDownLd or you can also use that link in a terminal and use the command\n",
    "```\n",
    "   wget http://www.astro.princeton.edu/~jstone/downloads/athena/athena4.2.tar.gz\n",
    "   tar zxf athena4.2.tar.gz\n",
    "```\n",
    "or\n",
    "``` \n",
    "   curl http://www.astro.princeton.edu/~jstone/downloads/athena/athena4.2.tar.gz | tar zxf -\n",
    "```\n",
    "depending on which program you have, or what method you prefer. Either way, you will now have the athena directory.\n",
    "\n",
    "If there are problems, a private github repo on https://github.com/astroumd/athena4.2 has been maintained with a smaller number of dependencies, including some example data that can be directly used for analysis. Contact the owner(s) for a snapshot if you need one."
   ]
  },
  {
   "cell_type": "markdown",
   "metadata": {},
   "source": [
    "## 2. configuring, compiling and testing\n",
    "\n",
    "The athena program is written in the C language, so it must be compiled first. python is an interpreted language, so it does not need this step. compiled languages are generally many times (sometimes 10 or 100 or even 1000) faster than their equivalent code in interpreted languages. However, developing in a language like python can often be a lot faster than in a compiled language.\n",
    "\n",
    "```\n",
    "   cd athena-4.2\n",
    "   ls\n",
    "   autoconf\n",
    "```\n",
    "this is where you might see a **command not found** error message. That's a sign of trouble. It means your system does not have some basic tools installed, buy [autoconf](https://github.com/edrosten/autoconf_tutorial) is one needed for athena. Either you install this tool, e.g.\n",
    "```\n",
    "   sudo apt-get install autoconf                     # example on ubuntu\n",
    "```\n",
    "\n",
    "or grab the private repo version as discussed before. Assuming we have this problem solved, we continue with\n",
    "```\n",
    "   ./configure \n",
    "   ...\n",
    "   \n",
    "Your Athena distribution has now been configured:\n",
    "\n",
    "--- Physics Options ---\n",
    "\n",
    "Problem:                 linear_wave\n",
    "Gas properties:          MHD\n",
    "Equation of State:       ADIABATIC\n",
    "Coordinate System:       CARTESIAN\n",
    "Advected scalar fields:  0\n",
    "Self-gravity:            OFF\n",
    "Resistivity:             OFF\n",
    "Viscosity:               OFF\n",
    "Thermal conduction:      OFF\n",
    "Particles:               OFF\n",
    "Special Relativity:      OFF\n",
    "\n",
    "--- Algorithm Options ----\n",
    "\n",
    "Spatial Order:           3 (THIRD_ORDER_CHAR)\n",
    "Flux:                    roe\n",
    "unsplit integrator:      ctu\n",
    "Precision:               DOUBLE_PREC\n",
    "Compiler options:        -O3\n",
    "Ghost cell output:       OFF\n",
    "Parallel modes: MPI      OFF\n",
    "H-correction:            OFF\n",
    "FFT:                     OFF\n",
    "Shearing-box:            OFF\n",
    "FARGO:                   OFF\n",
    "Super timestepping:      OFF\n",
    "Static Mesh Refinement:  OFF\n",
    "first-order flux corr:   OFF\n",
    "ROTATING_FRAME:          OFF\n",
    "L1_INFLOW:               OFF\n",
    "\n",
    "```\n",
    "   Now your athena has been set up for a particular problem (the linear wave) in 1D. If you want to learn more about the options to configure, use\n",
    "   \n",
    "```\n",
    "    ./configure --help\n",
    "```\n",
    "Compilation is a simple\n",
    "```\n",
    "    make all\n",
    "```\n",
    "after this there will be a binary in the direcetory **bin/athena**. There is a standard simple test (in 1D) that acts like a benchmark to see how fast the code is. This also allows you very easily to test out if there are certain compile flags that will optimize the code even better.\n",
    "```\n",
    "    make test\n",
    "(cd tst/1D-mhd; ./run.test)\n",
    "zone-cycles/cpu-second = 9.116444e+05\n",
    "zone-cycles/wall-second = 8.969274e+05\n",
    "L1 norm for density: 2.665900e-11\n",
    "```   \n",
    "Inspecting the **run.test** script will be instructive to see how you run this program.\n",
    "\n",
    "**Q1:**  how do you compile a version of the program with the \"-g\" debug option?  The code should run a little slower. How about \"-g -O0\", meaning with no optimization (sometimes you need to shut up the compiler from optimizing even in debug mode)."
   ]
  },
  {
   "cell_type": "markdown",
   "metadata": {},
   "source": [
    "## 3. running \n",
    "\n",
    "Running the code now involves...."
   ]
  },
  {
   "cell_type": "markdown",
   "metadata": {},
   "source": [
    "## 4. analysis\n",
    "\n",
    "This assumes you have data files ... in your current directory."
   ]
  },
  {
   "cell_type": "code",
   "execution_count": null,
   "metadata": {
    "collapsed": true
   },
   "outputs": [],
   "source": []
  }
 ],
 "metadata": {
  "anaconda-cloud": {},
  "kernelspec": {
   "display_name": "Python [default]",
   "language": "python",
   "name": "python3"
  },
  "language_info": {
   "codemirror_mode": {
    "name": "ipython",
    "version": 3
   },
   "file_extension": ".py",
   "mimetype": "text/x-python",
   "name": "python",
   "nbconvert_exporter": "python",
   "pygments_lexer": "ipython3",
   "version": "3.5.2"
  }
 },
 "nbformat": 4,
 "nbformat_minor": 1
}
